{
 "cells": [
  {
   "cell_type": "markdown",
   "metadata": {
    "id": "StbLzRcvIp6S"
   },
   "source": [
    "# Text Classification with PyTorch\n",
    "\n",
    "Classification is one of the most common machine learning problems where you need to categorize an instance into one or more categories, usually called\n",
    "classes or labels. Generally, there are three types of classification:\n",
    "\n",
    "Binary: In this case, you need to categorize an example as belonging to one of two classes.\n",
    "\n",
    "Multiclass: There are more than two classes that need to be categorized.\n",
    "\n",
    "Multilabel: In some cases, examples can have more than one class, e.g., a kind of food can have both carbohydrates and vitamins.\n",
    "\n",
    "In this project, you’ll build a binary classifier. We will use the following tools:\n",
    "\n",
    "Python: This is the programming language We will write code in.\n",
    "\n",
    "PyTorch: This is the Python-based deep learning framework We will use to implement deep learning pipelines.\n",
    "\n",
    "scikit-learn: We will use this library to process data and select, build, and evaluate machine learning models.\n",
    "\n",
    "NLTK: We will use this library to download data and process it.\n",
    "\n",
    "XGBoost: We will use this library to build a boosting ensemble model.\n",
    "\n",
    "DistilBERT: This pre-trained language model will be fine-tuned on the dataset for classification.\n",
    "\n",
    "GloVe: We will use GloVe embeddings to obtain contextual feature vectors.\n",
    "\n",
    "We will work on a question classification problem, where you are tasked to identify the primary category into which a question falls. We will use\n",
    "the Experimental Data for Question Classification dataset that is available in the nltk.corpus package.\n",
    "\n"
   ]
  },
  {
   "cell_type": "markdown",
   "metadata": {},
   "source": [
    "## Task 1: Import Libraries and Explore Dataset\n",
    "\n",
    "The question classification dataset contains questions labeled into 50 classes, which can be categorized into six main categories. It comes split into\n",
    "two, a test and train split.\n",
    "\n",
    "In this project, we will focus on the primary classes:\n",
    "\n",
    "ABBR: Denotes abbreviations\n",
    "\n",
    "ENTY: Stands for entities\n",
    "\n",
    "DESC: Denotes descriptions and abstract concepts\n",
    "\n",
    "HUM: Denotes human beings\n",
    "\n",
    "LOC: Denotes locations\n",
    "\n",
    "NUM: Stands for numeric values\n",
    "\n",
    "Complete the following steps in the notebook:\n",
    "\n",
    "Run the import statements in the notebook and confirm that we have no errors.\n",
    "\n",
    "Download the question classification dataset by executing the corresponding cell.\n",
    "\n",
    "Familiarize yourself with the dataset by performing the following steps:\n",
    "\n",
    "Print the size of the data.\n",
    "\n",
    "Print the first two entries of the training set.\n",
    "\n",
    "Convert the training and testing data to the pandas DataFrame.\n",
    "\n",
    "Split the label into the main category and the granular category.\n",
    "\n"
   ]
  },
  {
   "cell_type": "markdown",
   "metadata": {},
   "source": [
    "### 1.1 Import libraries"
   ]
  },
  {
   "cell_type": "code",
   "execution_count": 2,
   "metadata": {
    "id": "a-_1IyMzAQ2S"
   },
   "outputs": [],
   "source": [
    "import string\n",
    "import pandas as pd\n",
    "import numpy as np\n",
    "import matplotlib.pyplot as plt\n",
    "import nltk\n",
    "from nltk.corpus import qc, stopwords\n",
    "from sklearn.metrics import precision_score, recall_score, accuracy_score, f1_score, confusion_matrix, ConfusionMatrixDisplay\n",
    "from sklearn.feature_extraction.text import CountVectorizer, TfidfVectorizer\n",
    "from sklearn.preprocessing import LabelEncoder\n",
    "from sklearn.linear_model import LogisticRegression\n",
    "from sklearn.model_selection import RandomizedSearchCV, train_test_split\n",
    "from sklearn.utils.class_weight import compute_class_weight\n",
    "from scipy.stats import uniform\n",
    "from xgboost import XGBClassifier\n",
    "\n",
    "import torch\n",
    "from torch import nn\n",
    "import torch.nn.functional as F\n",
    "from torch.utils.data import Dataset, DataLoader\n",
    "import torch.optim as optim\n",
    "from scipy.sparse import csr_matrix\n",
    "import urllib.request\n",
    "%matplotlib inline\n",
    "\n",
    "import transformers\n",
    "from transformers import MobileBertTokenizer, MobileBertModel"
   ]
  },
  {
   "cell_type": "markdown",
   "metadata": {
    "id": "kZCJQBLfHQza"
   },
   "source": [
    "### 1.2 Download Question classification dataset\n"
   ]
  },
  {
   "cell_type": "code",
   "execution_count": 3,
   "metadata": {
    "id": "kH2j8ii1x_SM"
   },
   "outputs": [
    {
     "name": "stderr",
     "output_type": "stream",
     "text": [
      "[nltk_data] Downloading package qc to /root/nltk_data...\n",
      "[nltk_data]   Unzipping corpora/qc.zip.\n"
     ]
    }
   ],
   "source": [
    "# Download the Question Classification dataset\n",
    "nltk.download('qc')\n",
    "train_tuples = qc.tuples(\"train.txt\")\n",
    "test_tuples = qc.tuples(\"test.txt\")"
   ]
  },
  {
   "cell_type": "markdown",
   "metadata": {},
   "source": [
    "### 1.3 Explore the dataset\n"
   ]
  },
  {
   "cell_type": "code",
   "execution_count": 4,
   "metadata": {
    "id": "8kI1IB11qd6G"
   },
   "outputs": [
    {
     "name": "stdout",
     "output_type": "stream",
     "text": [
      "The size of train set: 5452\n",
      "The size of test set: 500\n"
     ]
    },
    {
     "data": {
      "text/html": [
       "<div>\n",
       "<style scoped>\n",
       "    .dataframe tbody tr th:only-of-type {\n",
       "        vertical-align: middle;\n",
       "    }\n",
       "\n",
       "    .dataframe tbody tr th {\n",
       "        vertical-align: top;\n",
       "    }\n",
       "\n",
       "    .dataframe thead th {\n",
       "        text-align: right;\n",
       "    }\n",
       "</style>\n",
       "<table border=\"1\" class=\"dataframe\">\n",
       "  <thead>\n",
       "    <tr style=\"text-align: right;\">\n",
       "      <th></th>\n",
       "      <th>full_label</th>\n",
       "      <th>text</th>\n",
       "    </tr>\n",
       "  </thead>\n",
       "  <tbody>\n",
       "    <tr>\n",
       "      <th>0</th>\n",
       "      <td>DESC:manner</td>\n",
       "      <td>How did serfdom develop in and then leave Russ...</td>\n",
       "    </tr>\n",
       "    <tr>\n",
       "      <th>1</th>\n",
       "      <td>ENTY:cremat</td>\n",
       "      <td>What films featured the character Popeye Doyle ?</td>\n",
       "    </tr>\n",
       "    <tr>\n",
       "      <th>2</th>\n",
       "      <td>DESC:manner</td>\n",
       "      <td>How can I find a list of celebrities ' real na...</td>\n",
       "    </tr>\n",
       "    <tr>\n",
       "      <th>3</th>\n",
       "      <td>ENTY:animal</td>\n",
       "      <td>What fowl grabs the spotlight after the Chines...</td>\n",
       "    </tr>\n",
       "    <tr>\n",
       "      <th>4</th>\n",
       "      <td>ABBR:exp</td>\n",
       "      <td>What is the full form of .com ?</td>\n",
       "    </tr>\n",
       "  </tbody>\n",
       "</table>\n",
       "</div>"
      ],
      "text/plain": [
       "    full_label                                               text\n",
       "0  DESC:manner  How did serfdom develop in and then leave Russ...\n",
       "1  ENTY:cremat   What films featured the character Popeye Doyle ?\n",
       "2  DESC:manner  How can I find a list of celebrities ' real na...\n",
       "3  ENTY:animal  What fowl grabs the spotlight after the Chines...\n",
       "4     ABBR:exp                    What is the full form of .com ?"
      ]
     },
     "execution_count": 4,
     "metadata": {},
     "output_type": "execute_result"
    }
   ],
   "source": [
    "# Print the size of the data\n",
    "print(f\"The size of train set: {len(train_tuples)}\")\n",
    "print(f\"The size of test set: {len(test_tuples)}\")\n",
    "\n",
    "# Print the first two entries of the train dataset\n",
    "train_tuples[:2]\n",
    "\n",
    "# Convert into a pandas dataframe:\n",
    "train_df = pd.DataFrame(train_tuples, columns =['full_label', \"text\"])\n",
    "test_df = pd.DataFrame(test_tuples, columns =['full_label', \"text\"])\n",
    "train_df.head()"
   ]
  },
  {
   "cell_type": "markdown",
   "metadata": {},
   "source": [
    "### 1.4 Split the label\n"
   ]
  },
  {
   "cell_type": "code",
   "execution_count": 5,
   "metadata": {},
   "outputs": [],
   "source": [
    "train_df[['main_cat', 'gran_cat']] = train_df['full_label'].str.split(':', expand=True)\n",
    "test_df[['main_cat', 'gran_cat']] = test_df['full_label'].str.split(':', expand=True)"
   ]
  },
  {
   "cell_type": "code",
   "execution_count": 5,
   "metadata": {},
   "outputs": [
    {
     "data": {
      "text/html": [
       "<div>\n",
       "<style scoped>\n",
       "    .dataframe tbody tr th:only-of-type {\n",
       "        vertical-align: middle;\n",
       "    }\n",
       "\n",
       "    .dataframe tbody tr th {\n",
       "        vertical-align: top;\n",
       "    }\n",
       "\n",
       "    .dataframe thead th {\n",
       "        text-align: right;\n",
       "    }\n",
       "</style>\n",
       "<table border=\"1\" class=\"dataframe\">\n",
       "  <thead>\n",
       "    <tr style=\"text-align: right;\">\n",
       "      <th></th>\n",
       "      <th>full_label</th>\n",
       "      <th>text</th>\n",
       "      <th>main_cat</th>\n",
       "      <th>gran_cat</th>\n",
       "    </tr>\n",
       "  </thead>\n",
       "  <tbody>\n",
       "    <tr>\n",
       "      <th>0</th>\n",
       "      <td>DESC:manner</td>\n",
       "      <td>How did serfdom develop in and then leave Russ...</td>\n",
       "      <td>DESC</td>\n",
       "      <td>manner</td>\n",
       "    </tr>\n",
       "    <tr>\n",
       "      <th>1</th>\n",
       "      <td>ENTY:cremat</td>\n",
       "      <td>What films featured the character Popeye Doyle ?</td>\n",
       "      <td>ENTY</td>\n",
       "      <td>cremat</td>\n",
       "    </tr>\n",
       "    <tr>\n",
       "      <th>2</th>\n",
       "      <td>DESC:manner</td>\n",
       "      <td>How can I find a list of celebrities ' real na...</td>\n",
       "      <td>DESC</td>\n",
       "      <td>manner</td>\n",
       "    </tr>\n",
       "    <tr>\n",
       "      <th>3</th>\n",
       "      <td>ENTY:animal</td>\n",
       "      <td>What fowl grabs the spotlight after the Chines...</td>\n",
       "      <td>ENTY</td>\n",
       "      <td>animal</td>\n",
       "    </tr>\n",
       "    <tr>\n",
       "      <th>4</th>\n",
       "      <td>ABBR:exp</td>\n",
       "      <td>What is the full form of .com ?</td>\n",
       "      <td>ABBR</td>\n",
       "      <td>exp</td>\n",
       "    </tr>\n",
       "  </tbody>\n",
       "</table>\n",
       "</div>"
      ],
      "text/plain": [
       "    full_label                                               text main_cat  \\\n",
       "0  DESC:manner  How did serfdom develop in and then leave Russ...     DESC   \n",
       "1  ENTY:cremat   What films featured the character Popeye Doyle ?     ENTY   \n",
       "2  DESC:manner  How can I find a list of celebrities ' real na...     DESC   \n",
       "3  ENTY:animal  What fowl grabs the spotlight after the Chines...     ENTY   \n",
       "4     ABBR:exp                    What is the full form of .com ?     ABBR   \n",
       "\n",
       "  gran_cat  \n",
       "0   manner  \n",
       "1   cremat  \n",
       "2   manner  \n",
       "3   animal  \n",
       "4      exp  "
      ]
     },
     "execution_count": 5,
     "metadata": {},
     "output_type": "execute_result"
    }
   ],
   "source": [
    "train_df.head()"
   ]
  },
  {
   "cell_type": "code",
   "execution_count": 6,
   "metadata": {},
   "outputs": [
    {
     "name": "stdout",
     "output_type": "stream",
     "text": [
      "***********train***********\n",
      "no of unique classes: 50\n",
      "no of  main classes: 6\n",
      "no of granular  classes: 47\n",
      "***********test***********\n",
      "no of unique classes: 42\n",
      "no of  main classes: 6\n",
      "no of granular  classes: 39\n",
      "***********train***********\n",
      "main_cat\n",
      "ENTY    1250\n",
      "HUM     1223\n",
      "DESC    1162\n",
      "NUM      896\n",
      "LOC      835\n",
      "ABBR      86\n",
      "Name: count, dtype: int64\n",
      "***********test***********\n",
      "main_cat\n",
      "DESC    138\n",
      "NUM     113\n",
      "ENTY     94\n",
      "LOC      81\n",
      "HUM      65\n",
      "ABBR      9\n",
      "Name: count, dtype: int64\n"
     ]
    },
    {
     "data": {
      "text/plain": [
       "50"
      ]
     },
     "execution_count": 6,
     "metadata": {},
     "output_type": "execute_result"
    }
   ],
   "source": [
    "# How many categories do they have?\n",
    "print(\"***********train***********\")\n",
    "print(f'no of unique classes: {len(train_df[\"full_label\"].unique())}')\n",
    "print(f'no of  main classes: {len(train_df[\"main_cat\"].unique())}')\n",
    "print(f'no of granular  classes: {len(train_df[\"gran_cat\"].unique())}')\n",
    "print(\"***********test***********\")\n",
    "print(f'no of unique classes: {len(test_df[\"full_label\"].unique())}')\n",
    "print(f'no of  main classes: {len(test_df[\"main_cat\"].unique())}')\n",
    "print(f'no of granular  classes: {len(test_df[\"gran_cat\"].unique())}')\n",
    "\n",
    "# See the distribution of the examples.\n",
    "print('***********train***********')\n",
    "print(train_df[\"main_cat\"].value_counts())\n",
    "print('***********test***********')\n",
    "print(test_df[\"main_cat\"].value_counts())\n",
    "\n",
    "# Are all the training labels present in the test set and vice versa?\n",
    "all_unique_values = set(train_df[\"full_label\"].unique()) | set(test_df[\"full_label\"].unique())\n",
    "len(all_unique_values)"
   ]
  },
  {
   "cell_type": "markdown",
   "metadata": {
    "id": "M7ecSMZvAEf2"
   },
   "source": [
    "## Task 2: Preprocess Text\n",
    "\n",
    "In natural language processing (NLP), freeform text like the questions in our dataset is called unstructured data. We have to preprocess them to \n",
    "understand them better and train models.\n",
    "\n",
    "Common text preprocessing techniques, like lowercase conversion, punctuation removal, and stop word elimination, should be employed thoughtfully \n",
    "considering our specific task, domain, and data attributes. For instance, in our dataset, there are question marks at the end of sentences, but\n",
    "because all the sentences are questions, these question marks don’t provide new information to our model. However, in a different task, where we \n",
    "have to distinguish between statements and questions, removing them could eliminate a valuable signal for our model.\n",
    "\n",
    "In this task, we will apply some cleaning techniques.\n",
    "\n",
    "Perform the following operations to complete this task:\n",
    "\n",
    "1. Make a copy of both the training and testing DataFrames. The copies will give us a point of reference.\n",
    "\n",
    "2. Convert the text in the DataFrames to lowercase. Lowercasing helps reduce the size of the vocabulary. For example, “Data” and “data” become the same \n",
    "token, and the same thing happens with “HeLlo” and “Hello,” etc.\n",
    "\n",
    "3. Remove punctuation from the datasets. This also helps with standardizing text, therefore reducing the vocabulary.\n",
    "\n",
    "4. Remove stop words from the test DataFrame. We can learn more about stop words and how to remove them using the NLTK library. Exclude the following\n",
    "words from the stop words list: “which,” “who,” “why,” “how,” “what,” “when,” “where,” “whom.”\n",
    "\n",
    "5. Encode the labels in the DataFrames. The target is categorical data. To train models, you need to convert them to numbers.\n",
    "\n",
    "Create a LabelEncoder instance.\n",
    "\n",
    "Fit the LabelEncoder instance.\n",
    "\n",
    "Get the label mapping (original labels to encoded labels).\n",
    "\n",
    "Use the transform() method of the LabelEncoder instance to encode the labels.\n"
   ]
  },
  {
   "cell_type": "markdown",
   "metadata": {},
   "source": [
    "### 2.1 Make a copy of the dataframes"
   ]
  },
  {
   "cell_type": "code",
   "execution_count": 7,
   "metadata": {
    "id": "k_r4XDFVG7Lz"
   },
   "outputs": [],
   "source": [
    "train_orig = train_df.copy()\n",
    "test_orig = test_df.copy()"
   ]
  },
  {
   "cell_type": "markdown",
   "metadata": {
    "id": "SIC3dyj2j-XK"
   },
   "source": [
    "### 2.2 Convert to lowercase\n"
   ]
  },
  {
   "cell_type": "code",
   "execution_count": 8,
   "metadata": {
    "id": "ejSZGgoTq-cI"
   },
   "outputs": [],
   "source": [
    "train_df['text'] = train_df['text'].str.lower()\n",
    "test_df['text'] = test_df['text'].str.lower()"
   ]
  },
  {
   "cell_type": "markdown",
   "metadata": {
    "id": "UGwPqguuH-5E"
   },
   "source": [
    "### 2.3 Remove punctuation marks\n"
   ]
  },
  {
   "cell_type": "code",
   "execution_count": 9,
   "metadata": {
    "id": "N7K0cfBkrDL1"
   },
   "outputs": [],
   "source": [
    "train_df['text'] = train_df['text'].str.replace('[{}]'.format(string.punctuation), '', regex=True)\n",
    "test_df['text'] = test_df['text'].str.replace('[{}]'.format(string.punctuation), '', regex=True)"
   ]
  },
  {
   "cell_type": "markdown",
   "metadata": {
    "id": "j4kSR5hkO3fR"
   },
   "source": [
    "### 2.4 Remove stop words\n"
   ]
  },
  {
   "cell_type": "code",
   "execution_count": 10,
   "metadata": {
    "id": "asIKx2BPt2c0"
   },
   "outputs": [
    {
     "name": "stdout",
     "output_type": "stream",
     "text": [
      "['i', 'me', 'my', 'myself', 'we', 'our', 'ours', 'ourselves', 'you', \"you're\", \"you've\", \"you'll\", \"you'd\", 'your', 'yours', 'yourself', 'yourselves', 'he', 'him', 'his', 'himself', 'she', \"she's\", 'her', 'hers', 'herself', 'it', \"it's\", 'its', 'itself', 'they', 'them', 'their', 'theirs', 'themselves', 'what', 'which', 'who', 'whom', 'this', 'that', \"that'll\", 'these', 'those', 'am', 'is', 'are', 'was', 'were', 'be', 'been', 'being', 'have', 'has', 'had', 'having', 'do', 'does', 'did', 'doing', 'a', 'an', 'the', 'and', 'but', 'if', 'or', 'because', 'as', 'until', 'while', 'of', 'at', 'by', 'for', 'with', 'about', 'against', 'between', 'into', 'through', 'during', 'before', 'after', 'above', 'below', 'to', 'from', 'up', 'down', 'in', 'out', 'on', 'off', 'over', 'under', 'again', 'further', 'then', 'once', 'here', 'there', 'when', 'where', 'why', 'how', 'all', 'any', 'both', 'each', 'few', 'more', 'most', 'other', 'some', 'such', 'no', 'nor', 'not', 'only', 'own', 'same', 'so', 'than', 'too', 'very', 's', 't', 'can', 'will', 'just', 'don', \"don't\", 'should', \"should've\", 'now', 'd', 'll', 'm', 'o', 're', 've', 'y', 'ain', 'aren', \"aren't\", 'couldn', \"couldn't\", 'didn', \"didn't\", 'doesn', \"doesn't\", 'hadn', \"hadn't\", 'hasn', \"hasn't\", 'haven', \"haven't\", 'isn', \"isn't\", 'ma', 'mightn', \"mightn't\", 'mustn', \"mustn't\", 'needn', \"needn't\", 'shan', \"shan't\", 'shouldn', \"shouldn't\", 'wasn', \"wasn't\", 'weren', \"weren't\", 'won', \"won't\", 'wouldn', \"wouldn't\"]\n",
      "no of stop words: 179\n",
      "no of stop words: 171\n"
     ]
    },
    {
     "name": "stderr",
     "output_type": "stream",
     "text": [
      "[nltk_data] Downloading package stopwords to /root/nltk_data...\n",
      "[nltk_data]   Unzipping corpora/stopwords.zip.\n"
     ]
    }
   ],
   "source": [
    "# Get the English stop words list from nltk\n",
    "nltk.download('stopwords')\n",
    "stop_words = stopwords.words('english')\n",
    "print(stop_words)\n",
    "print(f'no of stop words: {len(stop_words)}')\n",
    "remove_list =[\"which\", \"who\", \"why\", \"how\", \"what\", \"when\", \"where\", \"whom\"]\n",
    "stop_words = [word for word in stop_words if word not in remove_list]\n",
    "print(f'no of stop words: {len(stop_words)}')\n",
    "\n",
    "# Create a function that takes text and a stop word list and removes the stopwords\n",
    "def remove_stop_words(text,stop_words):\n",
    "    words = text.split()  # Split the text into words\n",
    "    filtered_words = [word for word in words if word not in stop_words]\n",
    "    return ' '.join(filtered_words)\n",
    "\n",
    "# Apply the remove_stop_words function to 'text' columns in both train and test\n",
    "train_df['text'] = train_df['text'].apply(lambda x: remove_stop_words(x, stop_words))\n",
    "test_df['text'] = test_df['text'].apply(lambda x: remove_stop_words(x, stop_words))"
   ]
  },
  {
   "cell_type": "markdown",
   "metadata": {
    "id": "yMzDZPhRczJN"
   },
   "source": [
    "### 2.5 Encode the labels\n"
   ]
  },
  {
   "cell_type": "code",
   "execution_count": 11,
   "metadata": {
    "id": "OvP-hcJSre2J"
   },
   "outputs": [
    {
     "name": "stdout",
     "output_type": "stream",
     "text": [
      "{'ABBR': 0, 'DESC': 1, 'ENTY': 2, 'HUM': 3, 'LOC': 4, 'NUM': 5}\n"
     ]
    }
   ],
   "source": [
    "# Create an instance of LabelEncoder\n",
    "le = LabelEncoder()\n",
    "\n",
    "# Use .fit to fit labels\n",
    "le.fit(train_orig['main_cat'])\n",
    "\n",
    "# Get the mapping (original labels to encoded labels)\n",
    "label_mapping =  {label: encoded_label for label, encoded_label in zip(le.classes_, le.transform(le.classes_))}\n",
    "print(label_mapping)\n",
    "\n",
    "# Use le.tranform to encode the labels\n",
    "train_df['main_cat'] = le.transform(train_df['main_cat'])\n",
    "test_df['main_cat'] = le.transform(test_df['main_cat'])"
   ]
  },
  {
   "cell_type": "code",
   "execution_count": 13,
   "metadata": {},
   "outputs": [
    {
     "data": {
      "text/html": [
       "<div>\n",
       "<style scoped>\n",
       "    .dataframe tbody tr th:only-of-type {\n",
       "        vertical-align: middle;\n",
       "    }\n",
       "\n",
       "    .dataframe tbody tr th {\n",
       "        vertical-align: top;\n",
       "    }\n",
       "\n",
       "    .dataframe thead th {\n",
       "        text-align: right;\n",
       "    }\n",
       "</style>\n",
       "<table border=\"1\" class=\"dataframe\">\n",
       "  <thead>\n",
       "    <tr style=\"text-align: right;\">\n",
       "      <th></th>\n",
       "      <th>full_label</th>\n",
       "      <th>text</th>\n",
       "      <th>main_cat</th>\n",
       "      <th>gran_cat</th>\n",
       "    </tr>\n",
       "  </thead>\n",
       "  <tbody>\n",
       "    <tr>\n",
       "      <th>0</th>\n",
       "      <td>DESC:manner</td>\n",
       "      <td>how serfdom develop leave russia</td>\n",
       "      <td>1</td>\n",
       "      <td>manner</td>\n",
       "    </tr>\n",
       "    <tr>\n",
       "      <th>1</th>\n",
       "      <td>ENTY:cremat</td>\n",
       "      <td>what films featured character popeye doyle</td>\n",
       "      <td>2</td>\n",
       "      <td>cremat</td>\n",
       "    </tr>\n",
       "    <tr>\n",
       "      <th>2</th>\n",
       "      <td>DESC:manner</td>\n",
       "      <td>how find list celebrities real names</td>\n",
       "      <td>1</td>\n",
       "      <td>manner</td>\n",
       "    </tr>\n",
       "    <tr>\n",
       "      <th>3</th>\n",
       "      <td>ENTY:animal</td>\n",
       "      <td>what fowl grabs spotlight chinese year monkey</td>\n",
       "      <td>2</td>\n",
       "      <td>animal</td>\n",
       "    </tr>\n",
       "    <tr>\n",
       "      <th>4</th>\n",
       "      <td>ABBR:exp</td>\n",
       "      <td>what full form com</td>\n",
       "      <td>0</td>\n",
       "      <td>exp</td>\n",
       "    </tr>\n",
       "  </tbody>\n",
       "</table>\n",
       "</div>"
      ],
      "text/plain": [
       "    full_label                                           text  main_cat  \\\n",
       "0  DESC:manner               how serfdom develop leave russia         1   \n",
       "1  ENTY:cremat     what films featured character popeye doyle         2   \n",
       "2  DESC:manner           how find list celebrities real names         1   \n",
       "3  ENTY:animal  what fowl grabs spotlight chinese year monkey         2   \n",
       "4     ABBR:exp                             what full form com         0   \n",
       "\n",
       "  gran_cat  \n",
       "0   manner  \n",
       "1   cremat  \n",
       "2   manner  \n",
       "3   animal  \n",
       "4      exp  "
      ]
     },
     "execution_count": 13,
     "metadata": {},
     "output_type": "execute_result"
    }
   ],
   "source": [
    "train_df.head()"
   ]
  },
  {
   "cell_type": "code",
   "execution_count": 14,
   "metadata": {},
   "outputs": [
    {
     "data": {
      "text/html": [
       "<div>\n",
       "<style scoped>\n",
       "    .dataframe tbody tr th:only-of-type {\n",
       "        vertical-align: middle;\n",
       "    }\n",
       "\n",
       "    .dataframe tbody tr th {\n",
       "        vertical-align: top;\n",
       "    }\n",
       "\n",
       "    .dataframe thead th {\n",
       "        text-align: right;\n",
       "    }\n",
       "</style>\n",
       "<table border=\"1\" class=\"dataframe\">\n",
       "  <thead>\n",
       "    <tr style=\"text-align: right;\">\n",
       "      <th></th>\n",
       "      <th>full_label</th>\n",
       "      <th>text</th>\n",
       "      <th>main_cat</th>\n",
       "      <th>gran_cat</th>\n",
       "    </tr>\n",
       "  </thead>\n",
       "  <tbody>\n",
       "    <tr>\n",
       "      <th>0</th>\n",
       "      <td>NUM:dist</td>\n",
       "      <td>how far denver aspen</td>\n",
       "      <td>5</td>\n",
       "      <td>dist</td>\n",
       "    </tr>\n",
       "    <tr>\n",
       "      <th>1</th>\n",
       "      <td>LOC:city</td>\n",
       "      <td>what county modesto california</td>\n",
       "      <td>4</td>\n",
       "      <td>city</td>\n",
       "    </tr>\n",
       "    <tr>\n",
       "      <th>2</th>\n",
       "      <td>HUM:desc</td>\n",
       "      <td>who galileo</td>\n",
       "      <td>3</td>\n",
       "      <td>desc</td>\n",
       "    </tr>\n",
       "    <tr>\n",
       "      <th>3</th>\n",
       "      <td>DESC:def</td>\n",
       "      <td>what atom</td>\n",
       "      <td>1</td>\n",
       "      <td>def</td>\n",
       "    </tr>\n",
       "    <tr>\n",
       "      <th>4</th>\n",
       "      <td>NUM:date</td>\n",
       "      <td>when hawaii become state</td>\n",
       "      <td>5</td>\n",
       "      <td>date</td>\n",
       "    </tr>\n",
       "  </tbody>\n",
       "</table>\n",
       "</div>"
      ],
      "text/plain": [
       "  full_label                            text  main_cat gran_cat\n",
       "0   NUM:dist            how far denver aspen         5     dist\n",
       "1   LOC:city  what county modesto california         4     city\n",
       "2   HUM:desc                     who galileo         3     desc\n",
       "3   DESC:def                       what atom         1      def\n",
       "4   NUM:date        when hawaii become state         5     date"
      ]
     },
     "execution_count": 14,
     "metadata": {},
     "output_type": "execute_result"
    }
   ],
   "source": [
    "test_df.head()"
   ]
  },
  {
   "cell_type": "markdown",
   "metadata": {
    "id": "lMh6gjW0eAhW"
   },
   "source": [
    "## Task 3: Split the Data\n",
    "\n",
    "In machine learning, the data is usually divided into three key subsets: training, validation (often called the development or dev set), and a \n",
    "test set. We do this to avoid data leakage.\n",
    "\n",
    "Training set: This is the portion of the data on which the model is trained.\n",
    "\n",
    "Validation set: The validation set helps fine-tune the model’s hyperparameters.\n",
    "\n",
    "Test set: The test set is held out and should not be used during training. It is used to evaluate the model’s performance on unseen data.\n",
    "\n",
    "In the case of the question classification dataset, it’s already divided into training and test sets. However, the training subset needs to be further\n",
    "split into two subsets. Stratified splitting is a technique where the target variable is used to ensure a similar distribution of classes in both the training and validation sets.\n",
    "\n",
    "To accomplish this, follow these steps:\n",
    "\n",
    "1. Put the features (text column) into variables named X and X_test and the target into y and y_test variables.\n",
    "\n",
    "2. Split the features X and target labels y into training and validation subsets.\n",
    "\n"
   ]
  },
  {
   "cell_type": "markdown",
   "metadata": {},
   "source": [
    "### 3.1 Obtain the features and target"
   ]
  },
  {
   "cell_type": "code",
   "execution_count": 12,
   "metadata": {
    "id": "_F0Il-kEsH1_"
   },
   "outputs": [],
   "source": [
    "X = train_df['text']\n",
    "y = train_df['main_cat']\n",
    "X_test = test_df['text']\n",
    "y_test = test_df['main_cat']"
   ]
  },
  {
   "cell_type": "markdown",
   "metadata": {},
   "source": [
    "### 3.2 Split train into train and valid sets\n"
   ]
  },
  {
   "cell_type": "code",
   "execution_count": 13,
   "metadata": {},
   "outputs": [],
   "source": [
    "X_train, X_valid, y_train, y_valid = train_test_split(X, y, test_size=0.15, random_state=42, stratify=y)"
   ]
  },
  {
   "cell_type": "code",
   "execution_count": 14,
   "metadata": {},
   "outputs": [
    {
     "name": "stdout",
     "output_type": "stream",
     "text": [
      "Shape of X_train: (4634,)\n",
      "Shape of X_valid: (818,)\n",
      "Shape of X_test: (500,)\n",
      "total dataset size: 5952\n",
      "train %: 77.85618279569893\n",
      "valid %: 13.743279569892472\n",
      "test %: 8.400537634408602\n"
     ]
    }
   ],
   "source": [
    "print(f'Shape of X_train: {X_train.shape}')\n",
    "print(f'Shape of X_valid: {X_valid.shape}')\n",
    "print(f'Shape of X_test: {X_test.shape}')\n",
    "\n",
    "total_size = len(X_train)+len(X_valid)+len(X_test)\n",
    "print(f'total dataset size: {total_size}')\n",
    "print(f'train %: {len(X_train)/total_size*100}')\n",
    "print(f'valid %: {len(X_valid)/total_size*100}')\n",
    "print(f'test %: {len(X_test)/total_size*100}')"
   ]
  },
  {
   "cell_type": "markdown",
   "metadata": {
    "id": "GFSyAfU3sTtM"
   },
   "source": [
    "## Task 4: Extract Features (BoW)\n",
    "\n",
    "To train your model, you need to convert text into numerical feature vectors. This process is known as feature extraction. One common method for\n",
    "feature extraction is the bag-of-words (BoW) model. In BoW, you can create features by selecting a specific vocabulary and counting how often each \n",
    "vocabulary item appears in an example.\n",
    "\n",
    "In the BoW model, there are different ways to score words in a document:\n",
    "\n",
    "Binary: This approach indicates whether a word is present or absent in a document.\n",
    "\n",
    "Counts: It counts the number of times each word appears in the documents.\n",
    "\n",
    "Frequencies: It counts the number of times each word appears in the documents and then divides it by its occurrence in all the documents.\n",
    "\n",
    "It’s worth noting that in the BoW model, the order of words, which is often semantically important, is disregarded. To capture some of this order \n",
    "information, you can use n-grams, where an n-gram is a sequence of n words or tokens. For instance, if n is 2, they’re called bigrams. If n is 3,\n",
    "you can refer to them as trigrams. Keep in mind that using n-grams can rapidly expand the number of dimensions in our feature space. The feature set\n",
    "is usually limited to a given number to manage this. The exact number of features you choose should be based on the specific needs of your task and \n",
    "the available memory resources.\n",
    "\n",
    "For this task, you’ll perform the following steps:\n",
    "\n",
    "1. Instantiate the CountVectorizer object with default parameters and get count feature vectors.\n",
    "\n",
    "2. Instantiate the CountVectorizer object, utilizing 1-gram and 2-grams, and limiting the vocabulary to the top 8000 most frequent words.\n",
    "\n",
    "3. Fit the CountVectorizer object on the training set and transform the training, validation, and testing sets using the fitted CountVectorizer object.\n"
   ]
  },
  {
   "cell_type": "markdown",
   "metadata": {},
   "source": [
    "### 4.1 Instantiate CountVectorizer\n"
   ]
  },
  {
   "cell_type": "code",
   "execution_count": 15,
   "metadata": {
    "id": "YwiRfV__WSMv"
   },
   "outputs": [],
   "source": [
    "count_vect = CountVectorizer()\n",
    "X_train_counts = count_vect.fit_transform(X_train)"
   ]
  },
  {
   "cell_type": "markdown",
   "metadata": {
    "id": "BJdDPX0rWpm-"
   },
   "source": [
    "### 4.2 Use N-grams\n"
   ]
  },
  {
   "cell_type": "code",
   "execution_count": 16,
   "metadata": {
    "id": "UM46bKdiWwvx"
   },
   "outputs": [],
   "source": [
    "count_vect = CountVectorizer(ngram_range=(1, 2), max_features=8000)"
   ]
  },
  {
   "cell_type": "markdown",
   "metadata": {},
   "source": [
    "### 4.3 Fit the CountVectorizer\n"
   ]
  },
  {
   "cell_type": "code",
   "execution_count": 17,
   "metadata": {},
   "outputs": [],
   "source": [
    "X_train_counts = count_vect.fit_transform(X_train)\n",
    "X_valid_counts = count_vect.transform(X_valid)\n",
    "X_test_counts = count_vect.transform(X_test)"
   ]
  },
  {
   "cell_type": "code",
   "execution_count": 18,
   "metadata": {},
   "outputs": [
    {
     "name": "stdout",
     "output_type": "stream",
     "text": [
      "(4634, 8000)\n",
      "Top 10 frequent tokens:\n",
      "['what' 'how' 'who' 'many' 'name' 'how many' 'where' 'first' 'when'\n",
      " 'world']\n",
      "\n",
      "Bottom 10 frequent tokens:\n",
      "['president russia' 'portrayed robin' 'portrayed renaud'\n",
      " 'portrayed prewett' 'portrayed man' 'portrayed maggio' 'portrayed george'\n",
      " 'portrayed frankie' 'portrayed field' 'portrayed fatman']\n"
     ]
    }
   ],
   "source": [
    "print(X_train_counts.shape)\n",
    "# Calculate the frequencies\n",
    "word_frequencies = np.array(X_train_counts.sum(axis=0))[0]\n",
    "# Get the indexes that would sort the word frequencies\n",
    "sorted_indexes = np.argsort(word_frequencies)\n",
    "# Get the vocabulary words corresponding to the indexes\n",
    "vocabulary_words = np.array(count_vect.get_feature_names_out())\n",
    "# Get the top and bottom frequent words\n",
    "top_10_tokens = vocabulary_words[sorted_indexes[-10:]][::-1]\n",
    "bottom_10_tokens = vocabulary_words[sorted_indexes[:10]]\n",
    "\n",
    "print(\"Top 10 frequent tokens:\")\n",
    "print(top_10_tokens)\n",
    "\n",
    "print(\"\\nBottom 10 frequent tokens:\")\n",
    "print(bottom_10_tokens)"
   ]
  },
  {
   "cell_type": "markdown",
   "metadata": {
    "id": "ADLMJ4HkZxaf"
   },
   "source": [
    "## Task 5: Extract Features (TF-IDF)\n",
    "\n",
    "One limitation of using word counts in the BoW model is that frequently occurring words receive higher scores, even though they might not be the most \n",
    "relevant or informative. To address this limitation, you can turn to TF-IDF.\n",
    "\n",
    "Let’s delve into TF-IDF using an example: Which films featured the character Popeye Doyle?\n",
    "\n",
    "Term: A term refers to an item in your vocabulary. For instance, in the above example, “films” is a term.\n",
    "\n",
    "Document: In this context, the entire sentence “Which films featured the character Popeye Doyle?” is considered a document.\n",
    "\n",
    "Collection: The collection is a group of documents, such as your training dataset.\n",
    "\n",
    "TF (term frequency) measures how many times a term appears in a document, divided by the total number of terms in the collection. \n",
    "IDF (inverse document frequency) assesses how many documents contain a term relative to the total number of documents. Rare words appearing in only\n",
    "a few documents have higher IDF scores, whereas common words like “what” receive lower scores.\n",
    "\n",
    "TF-IDF is the mathematical product of TF and IDF. In practice, the equation is modified to prevent division by zero error and to get better results.\n"
   ]
  },
  {
   "cell_type": "code",
   "execution_count": 19,
   "metadata": {
    "id": "iKLgzGPKklPT"
   },
   "outputs": [],
   "source": [
    "tfidf_vect = TfidfVectorizer(ngram_range=(1, 2), max_features=8000)\n",
    "X_train_tfidf = tfidf_vect.fit_transform(X_train)\n",
    "X_valid_tfidf = tfidf_vect.transform(X_valid)\n",
    "X_test_tfidf = tfidf_vect.transform(X_test)"
   ]
  },
  {
   "cell_type": "markdown",
   "metadata": {
    "id": "3iFmAe9PN-1A"
   },
   "source": [
    "## Task 6: Train a Linear Model\n",
    "\n",
    "Linear models are widely used in machine learning due to their simplicity, interpretability, efficiency, and ease of use. In classification tasks, \n",
    "these models create decision boundaries represented by hyperplanes. It’s important to note that linear models assume the data is linearly separable,\n",
    "which might not be true in all cases. Some common examples of linear classifiers include logistic regression, perceptron, and linear \n",
    "support vector machines (SVM).\n",
    "\n",
    "For this task, you’ll train a logistic regression model. To complete this task, follow these steps:\n",
    "\n",
    "1. Instantiate the LogisticRegression model with the random_state variable set to 0.\n",
    "\n",
    "2. Fit the logistic regression model.\n",
    "\n",
    "3. Evaluate the trained model’s performance on the datasets.\n",
    "\n",
    "Define a get_accuraccy() function, which takes in the classifier, TF-IDF vectors, labels, and name of the split (e.g., train, test) as parameters.\n",
    "Inside the function, make a prediction and use the accuracy_score() method from scikit-learn to calculate accuracy, and then print it.\n",
    "\n",
    "Evaluate the model on the train-test-validation split.\n",
    "\n"
   ]
  },
  {
   "cell_type": "markdown",
   "metadata": {},
   "source": [
    "### 6.1 Fit a logistic regression model"
   ]
  },
  {
   "cell_type": "code",
   "execution_count": 20,
   "metadata": {
    "id": "8gIpTzIcN2RB"
   },
   "outputs": [],
   "source": [
    "clf = LogisticRegression(random_state=0)"
   ]
  },
  {
   "cell_type": "markdown",
   "metadata": {},
   "source": [
    "### 6.2 Fit the logistic regression model\n"
   ]
  },
  {
   "cell_type": "code",
   "execution_count": 21,
   "metadata": {},
   "outputs": [
    {
     "data": {
      "text/html": [
       "<style>#sk-container-id-1 {color: black;}#sk-container-id-1 pre{padding: 0;}#sk-container-id-1 div.sk-toggleable {background-color: white;}#sk-container-id-1 label.sk-toggleable__label {cursor: pointer;display: block;width: 100%;margin-bottom: 0;padding: 0.3em;box-sizing: border-box;text-align: center;}#sk-container-id-1 label.sk-toggleable__label-arrow:before {content: \"▸\";float: left;margin-right: 0.25em;color: #696969;}#sk-container-id-1 label.sk-toggleable__label-arrow:hover:before {color: black;}#sk-container-id-1 div.sk-estimator:hover label.sk-toggleable__label-arrow:before {color: black;}#sk-container-id-1 div.sk-toggleable__content {max-height: 0;max-width: 0;overflow: hidden;text-align: left;background-color: #f0f8ff;}#sk-container-id-1 div.sk-toggleable__content pre {margin: 0.2em;color: black;border-radius: 0.25em;background-color: #f0f8ff;}#sk-container-id-1 input.sk-toggleable__control:checked~div.sk-toggleable__content {max-height: 200px;max-width: 100%;overflow: auto;}#sk-container-id-1 input.sk-toggleable__control:checked~label.sk-toggleable__label-arrow:before {content: \"▾\";}#sk-container-id-1 div.sk-estimator input.sk-toggleable__control:checked~label.sk-toggleable__label {background-color: #d4ebff;}#sk-container-id-1 div.sk-label input.sk-toggleable__control:checked~label.sk-toggleable__label {background-color: #d4ebff;}#sk-container-id-1 input.sk-hidden--visually {border: 0;clip: rect(1px 1px 1px 1px);clip: rect(1px, 1px, 1px, 1px);height: 1px;margin: -1px;overflow: hidden;padding: 0;position: absolute;width: 1px;}#sk-container-id-1 div.sk-estimator {font-family: monospace;background-color: #f0f8ff;border: 1px dotted black;border-radius: 0.25em;box-sizing: border-box;margin-bottom: 0.5em;}#sk-container-id-1 div.sk-estimator:hover {background-color: #d4ebff;}#sk-container-id-1 div.sk-parallel-item::after {content: \"\";width: 100%;border-bottom: 1px solid gray;flex-grow: 1;}#sk-container-id-1 div.sk-label:hover label.sk-toggleable__label {background-color: #d4ebff;}#sk-container-id-1 div.sk-serial::before {content: \"\";position: absolute;border-left: 1px solid gray;box-sizing: border-box;top: 0;bottom: 0;left: 50%;z-index: 0;}#sk-container-id-1 div.sk-serial {display: flex;flex-direction: column;align-items: center;background-color: white;padding-right: 0.2em;padding-left: 0.2em;position: relative;}#sk-container-id-1 div.sk-item {position: relative;z-index: 1;}#sk-container-id-1 div.sk-parallel {display: flex;align-items: stretch;justify-content: center;background-color: white;position: relative;}#sk-container-id-1 div.sk-item::before, #sk-container-id-1 div.sk-parallel-item::before {content: \"\";position: absolute;border-left: 1px solid gray;box-sizing: border-box;top: 0;bottom: 0;left: 50%;z-index: -1;}#sk-container-id-1 div.sk-parallel-item {display: flex;flex-direction: column;z-index: 1;position: relative;background-color: white;}#sk-container-id-1 div.sk-parallel-item:first-child::after {align-self: flex-end;width: 50%;}#sk-container-id-1 div.sk-parallel-item:last-child::after {align-self: flex-start;width: 50%;}#sk-container-id-1 div.sk-parallel-item:only-child::after {width: 0;}#sk-container-id-1 div.sk-dashed-wrapped {border: 1px dashed gray;margin: 0 0.4em 0.5em 0.4em;box-sizing: border-box;padding-bottom: 0.4em;background-color: white;}#sk-container-id-1 div.sk-label label {font-family: monospace;font-weight: bold;display: inline-block;line-height: 1.2em;}#sk-container-id-1 div.sk-label-container {text-align: center;}#sk-container-id-1 div.sk-container {/* jupyter's `normalize.less` sets `[hidden] { display: none; }` but bootstrap.min.css set `[hidden] { display: none !important; }` so we also need the `!important` here to be able to override the default hidden behavior on the sphinx rendered scikit-learn.org. See: https://github.com/scikit-learn/scikit-learn/issues/21755 */display: inline-block !important;position: relative;}#sk-container-id-1 div.sk-text-repr-fallback {display: none;}</style><div id=\"sk-container-id-1\" class=\"sk-top-container\"><div class=\"sk-text-repr-fallback\"><pre>LogisticRegression(random_state=0)</pre><b>In a Jupyter environment, please rerun this cell to show the HTML representation or trust the notebook. <br />On GitHub, the HTML representation is unable to render, please try loading this page with nbviewer.org.</b></div><div class=\"sk-container\" hidden><div class=\"sk-item\"><div class=\"sk-estimator sk-toggleable\"><input class=\"sk-toggleable__control sk-hidden--visually\" id=\"sk-estimator-id-1\" type=\"checkbox\" checked><label for=\"sk-estimator-id-1\" class=\"sk-toggleable__label sk-toggleable__label-arrow\">LogisticRegression</label><div class=\"sk-toggleable__content\"><pre>LogisticRegression(random_state=0)</pre></div></div></div></div></div>"
      ],
      "text/plain": [
       "LogisticRegression(random_state=0)"
      ]
     },
     "execution_count": 21,
     "metadata": {},
     "output_type": "execute_result"
    }
   ],
   "source": [
    "clf.fit(X_train_tfidf, y_train)"
   ]
  },
  {
   "cell_type": "markdown",
   "metadata": {
    "id": "IFZ2v_epOSD-"
   },
   "source": [
    "### 6.3 Evaluate the model\n"
   ]
  },
  {
   "cell_type": "code",
   "execution_count": 22,
   "metadata": {
    "id": "ne_rqJ9LOVPW"
   },
   "outputs": [
    {
     "name": "stdout",
     "output_type": "stream",
     "text": [
      "Accuracy on train: 0.9589987052222702\n",
      "Accuracy on valid: 0.8312958435207825\n",
      "Accuracy on test: 0.842\n"
     ]
    },
    {
     "data": {
      "text/plain": [
       "0.842"
      ]
     },
     "execution_count": 22,
     "metadata": {},
     "output_type": "execute_result"
    }
   ],
   "source": [
    "# Define get_accuracy() function\n",
    "def get_accuracy(clf, X_data_split, y_data_split, split_name):\n",
    "    y_pred = clf.predict(X_data_split)\n",
    "    acc_score = accuracy_score(y_data_split, y_pred)\n",
    "    print(f'Accuracy on {split_name}: {acc_score}')\n",
    "    return acc_score\n",
    "\n",
    "# Evaluate the model\n",
    "get_accuracy(clf, X_train_tfidf, y_train, 'train')\n",
    "get_accuracy(clf, X_valid_tfidf, y_valid, 'valid')\n",
    "get_accuracy(clf, X_test_tfidf, y_test, 'test')"
   ]
  },
  {
   "cell_type": "markdown",
   "metadata": {
    "id": "u1-OJ-JiQibg"
   },
   "source": [
    "## Task 7: Tune Hyperparameters\n",
    "\n",
    "Hyperparameters are settings that define a model’s structure but are not learned from the data itself. In contrast, data-related variables are called\n",
    "parameters. The process of finding the best hyperparameter values is called hyperparameter tuning, often done using a separate dataset or \n",
    "cross-validation. While manual tuning is possible, a more systematic approach is hyperparameter search. In this method, you specify a range of \n",
    "hyperparameters and their values to explore. The scikit-learn library provides tools like GridSearchCV and RandomizedSearchCV to assist with \n",
    "this process. You can read this Educative Answer for a more detailed explanation.\n",
    "\n",
    "Common hyperparameters include the optimization algorithm and the type of regularization. LogisticRegression has four penalty (regularization) options: \n",
    "none, L1, L2, and Elasticnet. Different solvers (optimization algorithms) support specific penalties.\n",
    "\n",
    "To complete this task:\n",
    "\n",
    "1. Define a LogisticRegression model with the following parameters: random_state=0, solver='saga', penalty='elasticnet', l1_ratio=0.0025, max_iter=500.\n",
    "\n",
    "2. Train and evaluate this model on all data splits.\n",
    "\n",
    "3. Do a hyperparameter search using RandomizedSearchCV with the following configurations: n_iter=15, scoring='accuracy', cv=5, random_state=42,\n",
    "n_jobs=-1.\n",
    "\n",
    "4. Train a new model on train data using the best hyperparameters obtained from the hyperparameter search.\n",
    "\n",
    "5. Evaluate this best model on the test dataset.\n"
   ]
  },
  {
   "cell_type": "markdown",
   "metadata": {},
   "source": [
    "### 7.1. Example tuning; change the optimizer and regularizer"
   ]
  },
  {
   "cell_type": "code",
   "execution_count": 23,
   "metadata": {
    "id": "XUeAo75yOxQn"
   },
   "outputs": [],
   "source": [
    "clf = LogisticRegression(random_state=0, \n",
    "solver='saga', penalty='elasticnet', \n",
    "l1_ratio=0.0025, max_iter=500)"
   ]
  },
  {
   "cell_type": "markdown",
   "metadata": {},
   "source": [
    "### 7.2 Example tuning: Train and evaluate\n"
   ]
  },
  {
   "cell_type": "code",
   "execution_count": 24,
   "metadata": {
    "id": "XmqsoXXDQthD"
   },
   "outputs": [
    {
     "name": "stdout",
     "output_type": "stream",
     "text": [
      "Accuracy on train: 0.9585671126456625\n",
      "Accuracy on valid: 0.8300733496332519\n",
      "Accuracy on test: 0.842\n"
     ]
    },
    {
     "data": {
      "text/plain": [
       "0.842"
      ]
     },
     "execution_count": 24,
     "metadata": {},
     "output_type": "execute_result"
    }
   ],
   "source": [
    "clf.fit(X_train_tfidf, y_train) \n",
    "get_accuracy(clf, X_train_tfidf, y_train, 'train')\n",
    "get_accuracy(clf, X_valid_tfidf, y_valid, 'valid')\n",
    "get_accuracy(clf, X_test_tfidf, y_test, 'test')"
   ]
  },
  {
   "cell_type": "markdown",
   "metadata": {
    "id": "p5CXh9W4Q011"
   },
   "source": [
    "### 7.3 Hyperparameter search\n"
   ]
  },
  {
   "cell_type": "code",
   "execution_count": 25,
   "metadata": {
    "id": "Er8Kl1sQQ6FU"
   },
   "outputs": [
    {
     "name": "stderr",
     "output_type": "stream",
     "text": [
      "/usr/local/lib/python3.8/dist-packages/sklearn/linear_model/_logistic.py:460: ConvergenceWarning: lbfgs failed to converge (status=1):\n",
      "STOP: TOTAL NO. of ITERATIONS REACHED LIMIT.\n",
      "\n",
      "Increase the number of iterations (max_iter) or scale the data as shown in:\n",
      "    https://scikit-learn.org/stable/modules/preprocessing.html\n",
      "Please also refer to the documentation for alternative solver options:\n",
      "    https://scikit-learn.org/stable/modules/linear_model.html#logistic-regression\n",
      "  n_iter_i = _check_optimize_result(\n",
      "/usr/local/lib/python3.8/dist-packages/sklearn/linear_model/_logistic.py:460: ConvergenceWarning: lbfgs failed to converge (status=1):\n",
      "STOP: TOTAL NO. of ITERATIONS REACHED LIMIT.\n",
      "\n",
      "Increase the number of iterations (max_iter) or scale the data as shown in:\n",
      "    https://scikit-learn.org/stable/modules/preprocessing.html\n",
      "Please also refer to the documentation for alternative solver options:\n",
      "    https://scikit-learn.org/stable/modules/linear_model.html#logistic-regression\n",
      "  n_iter_i = _check_optimize_result(\n",
      "/usr/local/lib/python3.8/dist-packages/sklearn/linear_model/_logistic.py:460: ConvergenceWarning: lbfgs failed to converge (status=1):\n",
      "STOP: TOTAL NO. of ITERATIONS REACHED LIMIT.\n",
      "\n",
      "Increase the number of iterations (max_iter) or scale the data as shown in:\n",
      "    https://scikit-learn.org/stable/modules/preprocessing.html\n",
      "Please also refer to the documentation for alternative solver options:\n",
      "    https://scikit-learn.org/stable/modules/linear_model.html#logistic-regression\n",
      "  n_iter_i = _check_optimize_result(\n",
      "/usr/local/lib/python3.8/dist-packages/sklearn/linear_model/_logistic.py:460: ConvergenceWarning: lbfgs failed to converge (status=1):\n",
      "STOP: TOTAL NO. of ITERATIONS REACHED LIMIT.\n",
      "\n",
      "Increase the number of iterations (max_iter) or scale the data as shown in:\n",
      "    https://scikit-learn.org/stable/modules/preprocessing.html\n",
      "Please also refer to the documentation for alternative solver options:\n",
      "    https://scikit-learn.org/stable/modules/linear_model.html#logistic-regression\n",
      "  n_iter_i = _check_optimize_result(\n",
      "/usr/local/lib/python3.8/dist-packages/sklearn/linear_model/_logistic.py:460: ConvergenceWarning: lbfgs failed to converge (status=1):\n",
      "STOP: TOTAL NO. of ITERATIONS REACHED LIMIT.\n",
      "\n",
      "Increase the number of iterations (max_iter) or scale the data as shown in:\n",
      "    https://scikit-learn.org/stable/modules/preprocessing.html\n",
      "Please also refer to the documentation for alternative solver options:\n",
      "    https://scikit-learn.org/stable/modules/linear_model.html#logistic-regression\n",
      "  n_iter_i = _check_optimize_result(\n"
     ]
    },
    {
     "data": {
      "text/html": [
       "<style>#sk-container-id-2 {color: black;}#sk-container-id-2 pre{padding: 0;}#sk-container-id-2 div.sk-toggleable {background-color: white;}#sk-container-id-2 label.sk-toggleable__label {cursor: pointer;display: block;width: 100%;margin-bottom: 0;padding: 0.3em;box-sizing: border-box;text-align: center;}#sk-container-id-2 label.sk-toggleable__label-arrow:before {content: \"▸\";float: left;margin-right: 0.25em;color: #696969;}#sk-container-id-2 label.sk-toggleable__label-arrow:hover:before {color: black;}#sk-container-id-2 div.sk-estimator:hover label.sk-toggleable__label-arrow:before {color: black;}#sk-container-id-2 div.sk-toggleable__content {max-height: 0;max-width: 0;overflow: hidden;text-align: left;background-color: #f0f8ff;}#sk-container-id-2 div.sk-toggleable__content pre {margin: 0.2em;color: black;border-radius: 0.25em;background-color: #f0f8ff;}#sk-container-id-2 input.sk-toggleable__control:checked~div.sk-toggleable__content {max-height: 200px;max-width: 100%;overflow: auto;}#sk-container-id-2 input.sk-toggleable__control:checked~label.sk-toggleable__label-arrow:before {content: \"▾\";}#sk-container-id-2 div.sk-estimator input.sk-toggleable__control:checked~label.sk-toggleable__label {background-color: #d4ebff;}#sk-container-id-2 div.sk-label input.sk-toggleable__control:checked~label.sk-toggleable__label {background-color: #d4ebff;}#sk-container-id-2 input.sk-hidden--visually {border: 0;clip: rect(1px 1px 1px 1px);clip: rect(1px, 1px, 1px, 1px);height: 1px;margin: -1px;overflow: hidden;padding: 0;position: absolute;width: 1px;}#sk-container-id-2 div.sk-estimator {font-family: monospace;background-color: #f0f8ff;border: 1px dotted black;border-radius: 0.25em;box-sizing: border-box;margin-bottom: 0.5em;}#sk-container-id-2 div.sk-estimator:hover {background-color: #d4ebff;}#sk-container-id-2 div.sk-parallel-item::after {content: \"\";width: 100%;border-bottom: 1px solid gray;flex-grow: 1;}#sk-container-id-2 div.sk-label:hover label.sk-toggleable__label {background-color: #d4ebff;}#sk-container-id-2 div.sk-serial::before {content: \"\";position: absolute;border-left: 1px solid gray;box-sizing: border-box;top: 0;bottom: 0;left: 50%;z-index: 0;}#sk-container-id-2 div.sk-serial {display: flex;flex-direction: column;align-items: center;background-color: white;padding-right: 0.2em;padding-left: 0.2em;position: relative;}#sk-container-id-2 div.sk-item {position: relative;z-index: 1;}#sk-container-id-2 div.sk-parallel {display: flex;align-items: stretch;justify-content: center;background-color: white;position: relative;}#sk-container-id-2 div.sk-item::before, #sk-container-id-2 div.sk-parallel-item::before {content: \"\";position: absolute;border-left: 1px solid gray;box-sizing: border-box;top: 0;bottom: 0;left: 50%;z-index: -1;}#sk-container-id-2 div.sk-parallel-item {display: flex;flex-direction: column;z-index: 1;position: relative;background-color: white;}#sk-container-id-2 div.sk-parallel-item:first-child::after {align-self: flex-end;width: 50%;}#sk-container-id-2 div.sk-parallel-item:last-child::after {align-self: flex-start;width: 50%;}#sk-container-id-2 div.sk-parallel-item:only-child::after {width: 0;}#sk-container-id-2 div.sk-dashed-wrapped {border: 1px dashed gray;margin: 0 0.4em 0.5em 0.4em;box-sizing: border-box;padding-bottom: 0.4em;background-color: white;}#sk-container-id-2 div.sk-label label {font-family: monospace;font-weight: bold;display: inline-block;line-height: 1.2em;}#sk-container-id-2 div.sk-label-container {text-align: center;}#sk-container-id-2 div.sk-container {/* jupyter's `normalize.less` sets `[hidden] { display: none; }` but bootstrap.min.css set `[hidden] { display: none !important; }` so we also need the `!important` here to be able to override the default hidden behavior on the sphinx rendered scikit-learn.org. See: https://github.com/scikit-learn/scikit-learn/issues/21755 */display: inline-block !important;position: relative;}#sk-container-id-2 div.sk-text-repr-fallback {display: none;}</style><div id=\"sk-container-id-2\" class=\"sk-top-container\"><div class=\"sk-text-repr-fallback\"><pre>RandomizedSearchCV(cv=5, estimator=LogisticRegression(), n_iter=15, n_jobs=-1,\n",
       "                   param_distributions={&#x27;C&#x27;: &lt;scipy.stats._distn_infrastructure.rv_continuous_frozen object at 0x7e9254286040&gt;,\n",
       "                                        &#x27;max_iter&#x27;: array([100, 200, 300, 400]),\n",
       "                                        &#x27;solver&#x27;: [&#x27;newton-cg&#x27;, &#x27;lbfgs&#x27;,\n",
       "                                                   &#x27;liblinear&#x27;, &#x27;sag&#x27;,\n",
       "                                                   &#x27;saga&#x27;]},\n",
       "                   random_state=42, scoring=&#x27;accuracy&#x27;)</pre><b>In a Jupyter environment, please rerun this cell to show the HTML representation or trust the notebook. <br />On GitHub, the HTML representation is unable to render, please try loading this page with nbviewer.org.</b></div><div class=\"sk-container\" hidden><div class=\"sk-item sk-dashed-wrapped\"><div class=\"sk-label-container\"><div class=\"sk-label sk-toggleable\"><input class=\"sk-toggleable__control sk-hidden--visually\" id=\"sk-estimator-id-2\" type=\"checkbox\" ><label for=\"sk-estimator-id-2\" class=\"sk-toggleable__label sk-toggleable__label-arrow\">RandomizedSearchCV</label><div class=\"sk-toggleable__content\"><pre>RandomizedSearchCV(cv=5, estimator=LogisticRegression(), n_iter=15, n_jobs=-1,\n",
       "                   param_distributions={&#x27;C&#x27;: &lt;scipy.stats._distn_infrastructure.rv_continuous_frozen object at 0x7e9254286040&gt;,\n",
       "                                        &#x27;max_iter&#x27;: array([100, 200, 300, 400]),\n",
       "                                        &#x27;solver&#x27;: [&#x27;newton-cg&#x27;, &#x27;lbfgs&#x27;,\n",
       "                                                   &#x27;liblinear&#x27;, &#x27;sag&#x27;,\n",
       "                                                   &#x27;saga&#x27;]},\n",
       "                   random_state=42, scoring=&#x27;accuracy&#x27;)</pre></div></div></div><div class=\"sk-parallel\"><div class=\"sk-parallel-item\"><div class=\"sk-item\"><div class=\"sk-label-container\"><div class=\"sk-label sk-toggleable\"><input class=\"sk-toggleable__control sk-hidden--visually\" id=\"sk-estimator-id-3\" type=\"checkbox\" ><label for=\"sk-estimator-id-3\" class=\"sk-toggleable__label sk-toggleable__label-arrow\">estimator: LogisticRegression</label><div class=\"sk-toggleable__content\"><pre>LogisticRegression()</pre></div></div></div><div class=\"sk-serial\"><div class=\"sk-item\"><div class=\"sk-estimator sk-toggleable\"><input class=\"sk-toggleable__control sk-hidden--visually\" id=\"sk-estimator-id-4\" type=\"checkbox\" ><label for=\"sk-estimator-id-4\" class=\"sk-toggleable__label sk-toggleable__label-arrow\">LogisticRegression</label><div class=\"sk-toggleable__content\"><pre>LogisticRegression()</pre></div></div></div></div></div></div></div></div></div></div>"
      ],
      "text/plain": [
       "RandomizedSearchCV(cv=5, estimator=LogisticRegression(), n_iter=15, n_jobs=-1,\n",
       "                   param_distributions={'C': <scipy.stats._distn_infrastructure.rv_continuous_frozen object at 0x7e9254286040>,\n",
       "                                        'max_iter': array([100, 200, 300, 400]),\n",
       "                                        'solver': ['newton-cg', 'lbfgs',\n",
       "                                                   'liblinear', 'sag',\n",
       "                                                   'saga']},\n",
       "                   random_state=42, scoring='accuracy')"
      ]
     },
     "execution_count": 25,
     "metadata": {},
     "output_type": "execute_result"
    }
   ],
   "source": [
    "model = LogisticRegression()\n",
    "\n",
    "# Define hyperparameter grid.\n",
    "param_dist = {\n",
    "    'C': uniform(loc=0, scale=4),  # Range for regularization strength (log-scale)\n",
    "    'solver': ['newton-cg', 'lbfgs', 'liblinear', 'sag', 'saga'], # choice of optimizing algorithm\n",
    "    'max_iter': np.arange(100, 500, 100),  # Range for maximum iterations\n",
    "}\n",
    "\n",
    "# Create RandomizedSearchCV\n",
    "random_search = RandomizedSearchCV(model, param_distributions=param_dist, n_iter=15, scoring='accuracy', cv=5, random_state=42, n_jobs=-1)\n",
    "\n",
    "# Fit the randomized search to your data\n",
    "random_search.fit(X_train_tfidf, y_train)"
   ]
  },
  {
   "cell_type": "markdown",
   "metadata": {},
   "source": [
    "### 7.4 Train a new model\n"
   ]
  },
  {
   "cell_type": "code",
   "execution_count": 26,
   "metadata": {
    "id": "3J27KxXCIAZd"
   },
   "outputs": [
    {
     "name": "stdout",
     "output_type": "stream",
     "text": [
      "Best Hyperparameters: {'C': 3.4647045830997407, 'max_iter': 400, 'solver': 'liblinear'}\n",
      "Best Accuracy Score: 0.8183012155144093\n"
     ]
    },
    {
     "data": {
      "text/html": [
       "<style>#sk-container-id-3 {color: black;}#sk-container-id-3 pre{padding: 0;}#sk-container-id-3 div.sk-toggleable {background-color: white;}#sk-container-id-3 label.sk-toggleable__label {cursor: pointer;display: block;width: 100%;margin-bottom: 0;padding: 0.3em;box-sizing: border-box;text-align: center;}#sk-container-id-3 label.sk-toggleable__label-arrow:before {content: \"▸\";float: left;margin-right: 0.25em;color: #696969;}#sk-container-id-3 label.sk-toggleable__label-arrow:hover:before {color: black;}#sk-container-id-3 div.sk-estimator:hover label.sk-toggleable__label-arrow:before {color: black;}#sk-container-id-3 div.sk-toggleable__content {max-height: 0;max-width: 0;overflow: hidden;text-align: left;background-color: #f0f8ff;}#sk-container-id-3 div.sk-toggleable__content pre {margin: 0.2em;color: black;border-radius: 0.25em;background-color: #f0f8ff;}#sk-container-id-3 input.sk-toggleable__control:checked~div.sk-toggleable__content {max-height: 200px;max-width: 100%;overflow: auto;}#sk-container-id-3 input.sk-toggleable__control:checked~label.sk-toggleable__label-arrow:before {content: \"▾\";}#sk-container-id-3 div.sk-estimator input.sk-toggleable__control:checked~label.sk-toggleable__label {background-color: #d4ebff;}#sk-container-id-3 div.sk-label input.sk-toggleable__control:checked~label.sk-toggleable__label {background-color: #d4ebff;}#sk-container-id-3 input.sk-hidden--visually {border: 0;clip: rect(1px 1px 1px 1px);clip: rect(1px, 1px, 1px, 1px);height: 1px;margin: -1px;overflow: hidden;padding: 0;position: absolute;width: 1px;}#sk-container-id-3 div.sk-estimator {font-family: monospace;background-color: #f0f8ff;border: 1px dotted black;border-radius: 0.25em;box-sizing: border-box;margin-bottom: 0.5em;}#sk-container-id-3 div.sk-estimator:hover {background-color: #d4ebff;}#sk-container-id-3 div.sk-parallel-item::after {content: \"\";width: 100%;border-bottom: 1px solid gray;flex-grow: 1;}#sk-container-id-3 div.sk-label:hover label.sk-toggleable__label {background-color: #d4ebff;}#sk-container-id-3 div.sk-serial::before {content: \"\";position: absolute;border-left: 1px solid gray;box-sizing: border-box;top: 0;bottom: 0;left: 50%;z-index: 0;}#sk-container-id-3 div.sk-serial {display: flex;flex-direction: column;align-items: center;background-color: white;padding-right: 0.2em;padding-left: 0.2em;position: relative;}#sk-container-id-3 div.sk-item {position: relative;z-index: 1;}#sk-container-id-3 div.sk-parallel {display: flex;align-items: stretch;justify-content: center;background-color: white;position: relative;}#sk-container-id-3 div.sk-item::before, #sk-container-id-3 div.sk-parallel-item::before {content: \"\";position: absolute;border-left: 1px solid gray;box-sizing: border-box;top: 0;bottom: 0;left: 50%;z-index: -1;}#sk-container-id-3 div.sk-parallel-item {display: flex;flex-direction: column;z-index: 1;position: relative;background-color: white;}#sk-container-id-3 div.sk-parallel-item:first-child::after {align-self: flex-end;width: 50%;}#sk-container-id-3 div.sk-parallel-item:last-child::after {align-self: flex-start;width: 50%;}#sk-container-id-3 div.sk-parallel-item:only-child::after {width: 0;}#sk-container-id-3 div.sk-dashed-wrapped {border: 1px dashed gray;margin: 0 0.4em 0.5em 0.4em;box-sizing: border-box;padding-bottom: 0.4em;background-color: white;}#sk-container-id-3 div.sk-label label {font-family: monospace;font-weight: bold;display: inline-block;line-height: 1.2em;}#sk-container-id-3 div.sk-label-container {text-align: center;}#sk-container-id-3 div.sk-container {/* jupyter's `normalize.less` sets `[hidden] { display: none; }` but bootstrap.min.css set `[hidden] { display: none !important; }` so we also need the `!important` here to be able to override the default hidden behavior on the sphinx rendered scikit-learn.org. See: https://github.com/scikit-learn/scikit-learn/issues/21755 */display: inline-block !important;position: relative;}#sk-container-id-3 div.sk-text-repr-fallback {display: none;}</style><div id=\"sk-container-id-3\" class=\"sk-top-container\"><div class=\"sk-text-repr-fallback\"><pre>LogisticRegression(C=3.4647045830997407, max_iter=400, solver=&#x27;liblinear&#x27;)</pre><b>In a Jupyter environment, please rerun this cell to show the HTML representation or trust the notebook. <br />On GitHub, the HTML representation is unable to render, please try loading this page with nbviewer.org.</b></div><div class=\"sk-container\" hidden><div class=\"sk-item\"><div class=\"sk-estimator sk-toggleable\"><input class=\"sk-toggleable__control sk-hidden--visually\" id=\"sk-estimator-id-5\" type=\"checkbox\" checked><label for=\"sk-estimator-id-5\" class=\"sk-toggleable__label sk-toggleable__label-arrow\">LogisticRegression</label><div class=\"sk-toggleable__content\"><pre>LogisticRegression(C=3.4647045830997407, max_iter=400, solver=&#x27;liblinear&#x27;)</pre></div></div></div></div></div>"
      ],
      "text/plain": [
       "LogisticRegression(C=3.4647045830997407, max_iter=400, solver='liblinear')"
      ]
     },
     "execution_count": 26,
     "metadata": {},
     "output_type": "execute_result"
    }
   ],
   "source": [
    " # Get the best hyperparameters and corresponding score\n",
    "best_params = random_search.best_params_\n",
    "best_score = random_search.best_score_\n",
    "\n",
    "print(\"Best Hyperparameters:\", best_params)\n",
    "print(\"Best Accuracy Score:\", best_score)\n",
    "\n",
    "# Fit the model on train data\n",
    "best_model = LogisticRegression(**best_params)\n",
    "best_model.fit(X_train_tfidf, y_train)"
   ]
  },
  {
   "cell_type": "markdown",
   "metadata": {},
   "source": [
    "### 7.5 Evaluate the model\n"
   ]
  },
  {
   "cell_type": "code",
   "execution_count": 27,
   "metadata": {
    "id": "RyxPsbUeRAoy"
   },
   "outputs": [
    {
     "name": "stdout",
     "output_type": "stream",
     "text": [
      "Accuracy on test: 0.85\n"
     ]
    },
    {
     "data": {
      "text/plain": [
       "0.85"
      ]
     },
     "execution_count": 27,
     "metadata": {},
     "output_type": "execute_result"
    }
   ],
   "source": [
    "get_accuracy(best_model, X_test_tfidf, y_test, 'test')"
   ]
  },
  {
   "cell_type": "markdown",
   "metadata": {
    "id": "SEprMruTRErp"
   },
   "source": [
    "## Task 8: Train an Ensemble Model\n",
    "\n",
    "Linear models assume that data is linearly separable, but tree-based models like decision trees don’t make this assumption. Tree-based models use \n",
    "decision trees to model the relationship between feature and target variables. Like linear models, tree-based models are easy to train, interpret, \n",
    "and use. However, using a single estimator can have drawbacks, including overfitting, reliance on a few features, and lower accuracy. To address \n",
    "these issues, ensembling techniques are employed, which combine the decisions of multiple models to enhance predictive power. Some popular ensembling \n",
    "methods include bagging, boosting, and stacking.\n",
    "\n",
    "Bagging (bootstrap aggregation): In bagging, multiple models are trained on different subsets of the data. The decisions of these models are combined\n",
    "through techniques like voting or averaging. Random forest is an example of a bagging ensemble.\n",
    "\n",
    "Boosting: In boosting, many weak learners are trained sequentially, with each one focusing on examples that previous learners misclassified. \n",
    "The results of these learners are combined using weighted averaging. Algorithms like XGBoost and AdaBoost are popular boosting methods.\n",
    "\n",
    "Stacking: It involves using different models in the first layer to fit the data, followed by a different model that combines their decisions. It aims \n",
    "to leverage the strengths of various model types.\n",
    "\n",
    "In this task, you’ll train an XGBoost model, which is one of the strongest tabular data classification and regression algorithms.\n",
    "\n",
    "To complete this task:\n",
    "\n",
    "1. Instantiate and fit the XGBClassifier model on the training data.\n",
    "\n",
    "2. Evaluate the model on all data splits.\n"
   ]
  },
  {
   "cell_type": "markdown",
   "metadata": {},
   "source": [
    "### 8.1 Instantiate and fit an XGBoost classifier"
   ]
  },
  {
   "cell_type": "code",
   "execution_count": 28,
   "metadata": {
    "id": "ZT2QFzKCRIBL"
   },
   "outputs": [
    {
     "data": {
      "text/html": [
       "<style>#sk-container-id-4 {color: black;}#sk-container-id-4 pre{padding: 0;}#sk-container-id-4 div.sk-toggleable {background-color: white;}#sk-container-id-4 label.sk-toggleable__label {cursor: pointer;display: block;width: 100%;margin-bottom: 0;padding: 0.3em;box-sizing: border-box;text-align: center;}#sk-container-id-4 label.sk-toggleable__label-arrow:before {content: \"▸\";float: left;margin-right: 0.25em;color: #696969;}#sk-container-id-4 label.sk-toggleable__label-arrow:hover:before {color: black;}#sk-container-id-4 div.sk-estimator:hover label.sk-toggleable__label-arrow:before {color: black;}#sk-container-id-4 div.sk-toggleable__content {max-height: 0;max-width: 0;overflow: hidden;text-align: left;background-color: #f0f8ff;}#sk-container-id-4 div.sk-toggleable__content pre {margin: 0.2em;color: black;border-radius: 0.25em;background-color: #f0f8ff;}#sk-container-id-4 input.sk-toggleable__control:checked~div.sk-toggleable__content {max-height: 200px;max-width: 100%;overflow: auto;}#sk-container-id-4 input.sk-toggleable__control:checked~label.sk-toggleable__label-arrow:before {content: \"▾\";}#sk-container-id-4 div.sk-estimator input.sk-toggleable__control:checked~label.sk-toggleable__label {background-color: #d4ebff;}#sk-container-id-4 div.sk-label input.sk-toggleable__control:checked~label.sk-toggleable__label {background-color: #d4ebff;}#sk-container-id-4 input.sk-hidden--visually {border: 0;clip: rect(1px 1px 1px 1px);clip: rect(1px, 1px, 1px, 1px);height: 1px;margin: -1px;overflow: hidden;padding: 0;position: absolute;width: 1px;}#sk-container-id-4 div.sk-estimator {font-family: monospace;background-color: #f0f8ff;border: 1px dotted black;border-radius: 0.25em;box-sizing: border-box;margin-bottom: 0.5em;}#sk-container-id-4 div.sk-estimator:hover {background-color: #d4ebff;}#sk-container-id-4 div.sk-parallel-item::after {content: \"\";width: 100%;border-bottom: 1px solid gray;flex-grow: 1;}#sk-container-id-4 div.sk-label:hover label.sk-toggleable__label {background-color: #d4ebff;}#sk-container-id-4 div.sk-serial::before {content: \"\";position: absolute;border-left: 1px solid gray;box-sizing: border-box;top: 0;bottom: 0;left: 50%;z-index: 0;}#sk-container-id-4 div.sk-serial {display: flex;flex-direction: column;align-items: center;background-color: white;padding-right: 0.2em;padding-left: 0.2em;position: relative;}#sk-container-id-4 div.sk-item {position: relative;z-index: 1;}#sk-container-id-4 div.sk-parallel {display: flex;align-items: stretch;justify-content: center;background-color: white;position: relative;}#sk-container-id-4 div.sk-item::before, #sk-container-id-4 div.sk-parallel-item::before {content: \"\";position: absolute;border-left: 1px solid gray;box-sizing: border-box;top: 0;bottom: 0;left: 50%;z-index: -1;}#sk-container-id-4 div.sk-parallel-item {display: flex;flex-direction: column;z-index: 1;position: relative;background-color: white;}#sk-container-id-4 div.sk-parallel-item:first-child::after {align-self: flex-end;width: 50%;}#sk-container-id-4 div.sk-parallel-item:last-child::after {align-self: flex-start;width: 50%;}#sk-container-id-4 div.sk-parallel-item:only-child::after {width: 0;}#sk-container-id-4 div.sk-dashed-wrapped {border: 1px dashed gray;margin: 0 0.4em 0.5em 0.4em;box-sizing: border-box;padding-bottom: 0.4em;background-color: white;}#sk-container-id-4 div.sk-label label {font-family: monospace;font-weight: bold;display: inline-block;line-height: 1.2em;}#sk-container-id-4 div.sk-label-container {text-align: center;}#sk-container-id-4 div.sk-container {/* jupyter's `normalize.less` sets `[hidden] { display: none; }` but bootstrap.min.css set `[hidden] { display: none !important; }` so we also need the `!important` here to be able to override the default hidden behavior on the sphinx rendered scikit-learn.org. See: https://github.com/scikit-learn/scikit-learn/issues/21755 */display: inline-block !important;position: relative;}#sk-container-id-4 div.sk-text-repr-fallback {display: none;}</style><div id=\"sk-container-id-4\" class=\"sk-top-container\"><div class=\"sk-text-repr-fallback\"><pre>XGBClassifier(base_score=None, booster=None, callbacks=None,\n",
       "              colsample_bylevel=None, colsample_bynode=None,\n",
       "              colsample_bytree=None, device=None, early_stopping_rounds=None,\n",
       "              enable_categorical=False, eval_metric=None, feature_types=None,\n",
       "              gamma=None, grow_policy=None, importance_type=None,\n",
       "              interaction_constraints=None, learning_rate=None, max_bin=None,\n",
       "              max_cat_threshold=None, max_cat_to_onehot=None,\n",
       "              max_delta_step=None, max_depth=None, max_leaves=None,\n",
       "              min_child_weight=None, missing=nan, monotone_constraints=None,\n",
       "              multi_strategy=None, n_estimators=None, n_jobs=None,\n",
       "              num_parallel_tree=None, objective=&#x27;multi:softprob&#x27;, ...)</pre><b>In a Jupyter environment, please rerun this cell to show the HTML representation or trust the notebook. <br />On GitHub, the HTML representation is unable to render, please try loading this page with nbviewer.org.</b></div><div class=\"sk-container\" hidden><div class=\"sk-item\"><div class=\"sk-estimator sk-toggleable\"><input class=\"sk-toggleable__control sk-hidden--visually\" id=\"sk-estimator-id-6\" type=\"checkbox\" checked><label for=\"sk-estimator-id-6\" class=\"sk-toggleable__label sk-toggleable__label-arrow\">XGBClassifier</label><div class=\"sk-toggleable__content\"><pre>XGBClassifier(base_score=None, booster=None, callbacks=None,\n",
       "              colsample_bylevel=None, colsample_bynode=None,\n",
       "              colsample_bytree=None, device=None, early_stopping_rounds=None,\n",
       "              enable_categorical=False, eval_metric=None, feature_types=None,\n",
       "              gamma=None, grow_policy=None, importance_type=None,\n",
       "              interaction_constraints=None, learning_rate=None, max_bin=None,\n",
       "              max_cat_threshold=None, max_cat_to_onehot=None,\n",
       "              max_delta_step=None, max_depth=None, max_leaves=None,\n",
       "              min_child_weight=None, missing=nan, monotone_constraints=None,\n",
       "              multi_strategy=None, n_estimators=None, n_jobs=None,\n",
       "              num_parallel_tree=None, objective=&#x27;multi:softprob&#x27;, ...)</pre></div></div></div></div></div>"
      ],
      "text/plain": [
       "XGBClassifier(base_score=None, booster=None, callbacks=None,\n",
       "              colsample_bylevel=None, colsample_bynode=None,\n",
       "              colsample_bytree=None, device=None, early_stopping_rounds=None,\n",
       "              enable_categorical=False, eval_metric=None, feature_types=None,\n",
       "              gamma=None, grow_policy=None, importance_type=None,\n",
       "              interaction_constraints=None, learning_rate=None, max_bin=None,\n",
       "              max_cat_threshold=None, max_cat_to_onehot=None,\n",
       "              max_delta_step=None, max_depth=None, max_leaves=None,\n",
       "              min_child_weight=None, missing=nan, monotone_constraints=None,\n",
       "              multi_strategy=None, n_estimators=None, n_jobs=None,\n",
       "              num_parallel_tree=None, objective='multi:softprob', ...)"
      ]
     },
     "execution_count": 28,
     "metadata": {},
     "output_type": "execute_result"
    }
   ],
   "source": [
    "bst = XGBClassifier()\n",
    "bst.fit(X_train_tfidf, y_train)"
   ]
  },
  {
   "cell_type": "markdown",
   "metadata": {},
   "source": [
    "### 8.2 Evaluate XGBoost model\n"
   ]
  },
  {
   "cell_type": "code",
   "execution_count": 29,
   "metadata": {
    "id": "Zj-JjJ7qRJJD"
   },
   "outputs": [
    {
     "name": "stdout",
     "output_type": "stream",
     "text": [
      "Accuracy on train: 0.9091497626240829\n",
      "Accuracy on valid: 0.7677261613691931\n",
      "Accuracy on test: 0.82\n"
     ]
    },
    {
     "data": {
      "text/plain": [
       "0.82"
      ]
     },
     "execution_count": 29,
     "metadata": {},
     "output_type": "execute_result"
    }
   ],
   "source": [
    "get_accuracy(bst, X_train_tfidf, y_train, 'train')\n",
    "get_accuracy(bst, X_valid_tfidf, y_valid, 'valid')\n",
    "get_accuracy(bst, X_test_tfidf, y_test, 'test')"
   ]
  },
  {
   "cell_type": "markdown",
   "metadata": {
    "id": "ZlW2yNaoRUVv"
   },
   "source": [
    "## Task 9: Evaluate the Ensemble model\n",
    "\n",
    "You’ve primarily used accuracy to assess the models, but it’s not always the most suitable evaluation metric for classification, particularly with\n",
    "imbalanced data. Other essential metrics include precision, recall, and F1 score. These metrics are derived from a confusion matrix that categorizes \n",
    "predictions into four categories:\n",
    "\n",
    "True positives (TP): Correctly predicted positive instances\n",
    "\n",
    "False positives (FP): Incorrectly predicted positive instances\n",
    "\n",
    "True negatives (TN): Correctly predicted negative instances\n",
    "\n",
    "False negatives (FN): Incorrectly predicted negative instances\n",
    "\n",
    "Here are the key classification evaluation metrics:\n",
    "\n",
    "Accuracy: The ratio of correct predictions to the total predictions.\n",
    "\n",
    "Precision: The proportion of true positive predictions among all positive predictions.\n",
    "\n",
    "Recall: The proportion of true positive predictions among all actual positive instances.\n",
    "\n",
    "F1 score: A harmonic mean of precision and recall.\n",
    "\n",
    "In general, you should try to get a high F1 score.\n",
    "\n",
    "In this task, you’ll broaden your evaluation metrics. To accomplish this, follow these steps:\n",
    "\n",
    "1. Get the test set predictions from the XGBoost model.\n",
    "\n",
    "2. Derive the confusion matrix for test predictions.\n",
    "\n",
    "3. Compute the precision, recall, and F1 score for the same model. Use the average='macro' parameter.\n",
    "\n",
    "                                                                                  \n"
   ]
  },
  {
   "cell_type": "markdown",
   "metadata": {},
   "source": [
    "### 9.1 Obtain predictions"
   ]
  },
  {
   "cell_type": "code",
   "execution_count": 30,
   "metadata": {
    "id": "l0wxckinRMZq"
   },
   "outputs": [],
   "source": [
    "y_pred = bst.predict(X_test_tfidf)"
   ]
  },
  {
   "cell_type": "markdown",
   "metadata": {},
   "source": [
    "### 9.2 Get confusion matrix\n"
   ]
  },
  {
   "cell_type": "code",
   "execution_count": 31,
   "metadata": {
    "id": "QnGweoKbRaO0"
   },
   "outputs": [
    {
     "data": {
      "image/png": "[encoded data removed]",
      "text/plain": [
       "<Figure size 640x480 with 2 Axes>"
      ]
     },
     "metadata": {},
     "output_type": "display_data"
    }
   ],
   "source": [
    "cm = confusion_matrix(y_test, y_pred, labels=bst.classes_)\n",
    "\n",
    "# Extra: Display the confusion matrix in a plot\n",
    "disp = ConfusionMatrixDisplay(confusion_matrix=cm, \n",
    "display_labels=clf.classes_)\n",
    "disp.plot()\n",
    "plt.show()"
   ]
  },
  {
   "cell_type": "markdown",
   "metadata": {},
   "source": [
    "### 9.3 Compute precision, recall and F1 score\n"
   ]
  },
  {
   "cell_type": "code",
   "execution_count": 32,
   "metadata": {
    "id": "v_mIyJwVRbRx"
   },
   "outputs": [],
   "source": [
    "precision = precision_score(y_test, y_pred, average='macro')\n",
    "recall = recall_score(y_test, y_pred, average='macro')\n",
    "f1 = f1_score(y_test, y_pred, average='macro')"
   ]
  },
  {
   "cell_type": "code",
   "execution_count": 33,
   "metadata": {},
   "outputs": [
    {
     "name": "stdout",
     "output_type": "stream",
     "text": [
      "0.843980387963854\n",
      "0.7862293004916509\n",
      "0.8073450681934734\n"
     ]
    }
   ],
   "source": [
    "print(precision)\n",
    "print(recall)\n",
    "print(f1)"
   ]
  },
  {
   "cell_type": "markdown",
   "metadata": {},
   "source": [
    "## Task 10: Define a Neural Network\n",
    "\n",
    "Neural networks are a subset of machine learning algorithms inspired by the structure of the human brain. You can learn more about neural networks and\n",
    "deep learning through Educative Answers. The training process of a neural network adjusts its learnable parameters called weights. Unlike traditional \n",
    "algorithms, neural networks are called universal approximators meaning they can model complex relationships in data without assuming a specific form \n",
    "for the underlying function. They achieve this using non-linear activation functions, which introduce nonlinearity. You’ll use PyTorch, a widely used \n",
    "deep learning library, to train neural networks.\n",
    "\n",
    "In this task, you’ll define a neural network that will learn from TF-IDF vectors obtained in prior tasks.\n",
    "\n",
    "Perform the following operations to complete this task:\n",
    "\n",
    "Create a neural network class:\n",
    "\n",
    "Within the __init__() constructor method, initialize three linear layers. These layers will transform the input data as it passes through the network. \n",
    "The input and output dimensions for these layers should be as follows: input - [ 8000, 1024, 256] output - [1024, 256, 6].\n",
    "\n",
    "Implement the forward() method. This method will detail how the data moves through the network. Use the rectified linear unit (ReLU) activation \n",
    "function between layers to introduce nonlinearity. The ReLU function should be applied to the outputs of the first and second layers during the\n",
    "intermediate passes before reaching the final output layer.\n"
   ]
  },
  {
   "cell_type": "markdown",
   "metadata": {},
   "source": [
    "### 10.1 Implement a neural network class"
   ]
  },
  {
   "cell_type": "code",
   "execution_count": 34,
   "metadata": {},
   "outputs": [],
   "source": [
    "class ClassificationNet(nn.Module):\n",
    "    # Define the constructor\n",
    "    def __init__(self):\n",
    "        super(ClassificationNet, self).__init__()\n",
    "        self.fc1 = nn.Linear(8000, 1024)\n",
    "        self.fc2 = nn.Linear(1024, 256)\n",
    "        self.fc3 = nn.Linear(256, 6)\n",
    "    # Define the forward pass\n",
    "    def forward(self, x):\n",
    "        x = F.relu(self.fc1(x))\n",
    "        x = F.relu(self.fc2(x))\n",
    "        x = self.fc3(x)\n",
    "        return x"
   ]
  },
  {
   "cell_type": "markdown",
   "metadata": {},
   "source": [
    "## Task 11: Create Dataset and DataLoaders\n",
    "\n",
    "When training large-scale neural networks, handling and preprocessing extensive datasets is crucial. PyTorch’s Dataset and DataLoader classes help \n",
    "streamline this by separating data processing from training code; Dataset manages samples and labels while DataLoader provides efficient sample access.\n",
    "Your task is to implement custom datasets and DataLoaders for this purpose.\n",
    "\n",
    "Perform the following operations to complete this task:\n",
    "\n",
    "1. Create a custom Dataset class called TfidfDataset:\n",
    "\n",
    "Implement the __init__() method to initialize class variables for features and labels. Set up label and feature transforms. Pass the TF-IDF feature \n",
    "vectors and labels as parameters.\n",
    "\n",
    "Implement the __len__() method to return the dataset’s total sample count.\n",
    "\n",
    "Implement the __getitem__() method to load, transform, and return a sample for a given idx index.\n",
    "\n",
    "2. Instantiate the TfidfDataset class for the train-test-validation splits.\n",
    "\n",
    "3. Declare a variable named batch_size and assign the value of 32 to it. Batch sizes determine the number of samples in a mini-batch fed to the model \n",
    "simultaneously.\n",
    "\n",
    "4. Instantiate a DataLoader object for the train-test-validation splits. Use the previously defined batch_size and set shuffle to True.\n"
   ]
  },
  {
   "cell_type": "markdown",
   "metadata": {},
   "source": [
    "### 11.1 Create a custom Dataset class"
   ]
  },
  {
   "cell_type": "code",
   "execution_count": 35,
   "metadata": {},
   "outputs": [],
   "source": [
    "class TfidfDataset(Dataset):\n",
    "    def __init__(self, tfidf_vectors, labels, transform=None, target_transform=None):\n",
    "        self.labels = torch.tensor(labels.values)\n",
    "        self.feature_vectors =  torch.tensor(csr_matrix.todense(tfidf_vectors)).float()\n",
    "        self.transform = transform\n",
    "        self.target_transform = target_transform\n",
    "\n",
    "    def __len__(self):\n",
    "        return len(self.labels)\n",
    "\n",
    "    def __getitem__(self, idx):\n",
    "        feature_vector = self.feature_vectors[idx]\n",
    "        label = self.labels[idx]\n",
    "        if self.transform:\n",
    "            feature_vector = self.transform(feature_vector)\n",
    "        if self.target_transform:\n",
    "            label = self.target_transform(label)\n",
    "        return feature_vector, label"
   ]
  },
  {
   "cell_type": "markdown",
   "metadata": {},
   "source": [
    "### 11.2 Instantiate TfidfDataset objects\n"
   ]
  },
  {
   "cell_type": "code",
   "execution_count": 36,
   "metadata": {},
   "outputs": [],
   "source": [
    "train_dataset = TfidfDataset(X_train_tfidf, y_train)\n",
    "valid_dataset = TfidfDataset(X_valid_tfidf, y_valid)\n",
    "test_dataset = TfidfDataset(X_test_tfidf, y_test)"
   ]
  },
  {
   "cell_type": "markdown",
   "metadata": {},
   "source": [
    "### 11.3 Set batch size\n"
   ]
  },
  {
   "cell_type": "code",
   "execution_count": 37,
   "metadata": {},
   "outputs": [],
   "source": [
    "batch_size = 64"
   ]
  },
  {
   "cell_type": "markdown",
   "metadata": {},
   "source": [
    "### 11.4 Instantiate DataLoader objects\n"
   ]
  },
  {
   "cell_type": "code",
   "execution_count": 38,
   "metadata": {},
   "outputs": [],
   "source": [
    "tfdif_train_dataloader = DataLoader(train_dataset, batch_size=batch_size, shuffle=True)\n",
    "tfdif_test_dataloader = DataLoader(test_dataset, batch_size=batch_size, shuffle=True)\n",
    "tfdif_valid_dataloader = DataLoader(valid_dataset, batch_size=batch_size, shuffle=True)"
   ]
  },
  {
   "cell_type": "markdown",
   "metadata": {},
   "source": [
    "## Task 12: Set up Training\n",
    "\n",
    "Training a neural network involves adjusting its parameters to fit the data. Essential concepts include:\n",
    "\n",
    "Optimizer: It’s the algorithm that updates the network’s weights during training.\n",
    "\n",
    "Learning rate: It determines the size of steps taken toward minimizing the loss function.\n",
    "\n",
    "Loss function: It measures the difference between the predicted outputs and actual values.\n",
    "\n",
    "Backpropagation: It’s the algorithm used to reduce network errors by adjusting weights.\n",
    "\n",
    "Device: It determines where the training is executed. You can choose between CPUs, GPUs, and TPUs.\n",
    "\n",
    "Epoch: The epoch is one entire pass of the training data through the algorithm. Typically, the data in an epoch is fed in mini-batches from the \n",
    "DataLoaders.\n",
    "\n",
    "Early stopping: It halts training when a certain condition is met to avoid overfitting.\n",
    "\n",
    "Training function: It manages epochs, validation, and data transfer to the appropriate device (CPU or GPU), employing early stopping as necessary.\n",
    "\n",
    "The training process typically follows these steps:\n",
    "\n",
    "Forward pass: It feeds data through the network to generate predictions.\n",
    "\n",
    "Calculate loss: It evaluates the error between predictions and actual values.\n",
    "\n",
    "Backward pass: It updates weights by propagating the error back through the network.\n",
    "\n",
    "Clear gradients: It resets gradients to zero for the next update.\n",
    "\n",
    "Repeat: The process continues until early stopping criteria or another designated endpoint, such as the maximum number of epochs.\n",
    "\n",
    "To complete this task, follow the steps below:\n",
    "\n",
    "1. To create a neural network, create an instance of the ClassificationNet class and assign it to a variable called net. Move the model to the \n",
    "configured device.\n",
    "\n",
    "2. Instantiate an Adam optimizer with a learning rate of 0.002.\n",
    "\n",
    "3. Declare a variable and assign an instance of CrossEntropyLoss to this newly created variable.\n",
    "\n",
    "4. Determine whether to use CPU or GPU for computations.\n",
    "\n",
    "5. Load your classifier onto the chosen device.\n",
    "\n",
    "6. Define a function named train_nn(). It should accept the neural network, optimizer, loss function, training and validation data loaders, and number\n",
    "of epochs. It should execute the abovementioned training steps and return training and validation losses.\n",
    "\n",
    "                                                                                             "
   ]
  },
  {
   "cell_type": "markdown",
   "metadata": {},
   "source": [
    "### 12.1 Instantiate the classifier"
   ]
  },
  {
   "cell_type": "code",
   "execution_count": 39,
   "metadata": {},
   "outputs": [],
   "source": [
    "net = ClassificationNet()"
   ]
  },
  {
   "cell_type": "markdown",
   "metadata": {},
   "source": [
    "### 12.2 Initialize the optimizer\n"
   ]
  },
  {
   "cell_type": "code",
   "execution_count": 40,
   "metadata": {},
   "outputs": [],
   "source": [
    "optimizer = optim.Adam(net.parameters(), lr=0.002)"
   ]
  },
  {
   "cell_type": "markdown",
   "metadata": {},
   "source": [
    "### 12.3 Set loss function\n"
   ]
  },
  {
   "cell_type": "code",
   "execution_count": 41,
   "metadata": {},
   "outputs": [],
   "source": [
    "criterion = nn.CrossEntropyLoss()"
   ]
  },
  {
   "cell_type": "markdown",
   "metadata": {},
   "source": [
    "### 12.4 Configure device\n"
   ]
  },
  {
   "cell_type": "code",
   "execution_count": 42,
   "metadata": {},
   "outputs": [
    {
     "name": "stdout",
     "output_type": "stream",
     "text": [
      "Using cpu device\n"
     ]
    }
   ],
   "source": [
    "device = (\n",
    "    \"cuda\"\n",
    "    if torch.cuda.is_available()\n",
    "    else \"mps\"\n",
    "    if torch.backends.mps.is_available()\n",
    "    else \"cpu\"\n",
    ")\n",
    "print(f\"Using {device} device\")"
   ]
  },
  {
   "cell_type": "markdown",
   "metadata": {},
   "source": [
    "### 12.5 Move model to configured device"
   ]
  },
  {
   "cell_type": "code",
   "execution_count": 43,
   "metadata": {},
   "outputs": [],
   "source": [
    "net = net.to(device)"
   ]
  },
  {
   "cell_type": "markdown",
   "metadata": {},
   "source": [
    "### 12.6 Create the training function\n"
   ]
  },
  {
   "cell_type": "code",
   "execution_count": 44,
   "metadata": {},
   "outputs": [],
   "source": [
    "def train_nn(net, optimizer, criterion, train_dataloader, valid_dataloader, n_epochs = 3):\n",
    "    len_train_dataloader = len(train_dataloader)\n",
    "    len_valid_dataloader = len(valid_dataloader)\n",
    "    train_losses, valid_losses = [], []\n",
    "\n",
    "    for epoch in range(n_epochs):  # loop over the dataset\n",
    "        total_train_loss = 0.0\n",
    "        net.train()\n",
    "        for i, data in enumerate(train_dataloader, 0):\n",
    "            inputs, labels = data\n",
    "            inputs = inputs.to(device) # move data to the device\n",
    "            labels = labels.to(device)\n",
    "\n",
    "            optimizer.zero_grad() # zero the parameter gradients\n",
    "\n",
    "            outputs = net(inputs) # forward + backward + optimize\n",
    "            loss = criterion(outputs, labels)\n",
    "            loss.backward()\n",
    "            optimizer.step()\n",
    "            total_train_loss += loss.item()\n",
    "\n",
    "        with torch.no_grad():\n",
    "            net.eval()\n",
    "            total_valid_loss = 0\n",
    "            for data in valid_dataloader:\n",
    "                valid_inputs, valid_labels = data\n",
    "                valid_inputs = valid_inputs.to(device)\n",
    "                valid_labels = valid_labels.to(device)\n",
    "                outputs = net(valid_inputs)\n",
    "                total_valid_loss += criterion(outputs, valid_labels).item() \n",
    "        train_losses.append(total_train_loss/len_train_dataloader)\n",
    "        valid_losses.append(total_valid_loss/len_valid_dataloader)\n",
    "    print('Finished Training')\n",
    "    return train_losses, valid_losses"
   ]
  },
  {
   "cell_type": "markdown",
   "metadata": {},
   "source": [
    "## Task 13: Train and Evaluate the Neural Network\n",
    "\n",
    "In this task, you’ll train and evaluate the neural network. An important tool during this process is the learning curve, a graph depicting the model’s\n",
    "performance over time. Generally, it plots the number of training iterations or epochs on the x-axis against a performance metric like loss or accuracy\n",
    "on the y-axis. Both training and validation performances are charted to provide insight into how the model improves with each step.\n",
    "\n",
    "To complete this task, do the following:\n",
    "\n",
    "1. Define a plot_learning_curve() function to graph the learning curve using train and validation losses.\n",
    "\n",
    "2. Define a function named evaluate_classnet() which will take a model as input and DataLoader as the object, perform a forward pass, and return the predicted classes and the accuracy score. Print the following metrics inside the function: accuracy, precision, recall, and F1.\n",
    "\n",
    "3. Assign the value 4 to a variable named n_epochs.\n",
    "\n",
    "4. Call the train_nn() function to train the model.\n",
    "\n",
    "5. Call the plot_learning_curve() function to visualize the learning curve.\n",
    "\n",
    "6. Call the evaluate_classnet() method to evaluate the model on the test set.\n"
   ]
  },
  {
   "cell_type": "markdown",
   "metadata": {},
   "source": [
    "### 13.1 Define a function to plot the learning curve"
   ]
  },
  {
   "cell_type": "code",
   "execution_count": 45,
   "metadata": {},
   "outputs": [],
   "source": [
    "def plot_learning_curve(train_losses, valid_losses):\n",
    "    plt.plot(train_losses, label='Training loss')\n",
    "    plt.plot(valid_losses, label='Validation loss')\n",
    "    plt.xlabel('Epochs')\n",
    "    plt.ylabel('Loss')\n",
    "    plt.legend()\n",
    "    plt.show()"
   ]
  },
  {
   "cell_type": "markdown",
   "metadata": {},
   "source": [
    "### 13.2 Define a function to evaluate the model\n"
   ]
  },
  {
   "cell_type": "code",
   "execution_count": 46,
   "metadata": {},
   "outputs": [],
   "source": [
    "def evaluate_classnet(model, dataloader):\n",
    "    correct = 0\n",
    "    total = 0\n",
    "    predictions = []\n",
    "    with torch.no_grad():\n",
    "        model.eval()\n",
    "        for data in dataloader:\n",
    "            inputs, labels = data\n",
    "            inputs = inputs.to(device)\n",
    "            labels = labels.to(device)\n",
    "            outputs = model(inputs)\n",
    "            _, predicted = torch.max(outputs.data, 1)\n",
    "            total += labels.size(0)\n",
    "            correct += (predicted == labels).sum().item()\n",
    "            predictions.extend(predicted.tolist())\n",
    "    accuracy = 100 * correct // total\n",
    "    precision = precision_score(y_test, predictions, average='macro')\n",
    "    recall = recall_score(y_test, predictions, average='macro')\n",
    "    f1 = f1_score(y_test, predictions, average='macro')\n",
    "    print(f'Accuracy: {accuracy} %')\n",
    "    print(\"Precision:\", precision)\n",
    "    print(\"Recall:\", recall)\n",
    "    print(\"F1 Score:\", f1)\n",
    "    return predictions, accuracy"
   ]
  },
  {
   "cell_type": "markdown",
   "metadata": {},
   "source": [
    "### 13.3 Set the number of epochs\n"
   ]
  },
  {
   "cell_type": "code",
   "execution_count": 47,
   "metadata": {},
   "outputs": [],
   "source": [
    "n_epochs = 4"
   ]
  },
  {
   "cell_type": "markdown",
   "metadata": {},
   "source": [
    "### 13.4 Train the model\n"
   ]
  },
  {
   "cell_type": "code",
   "execution_count": 48,
   "metadata": {},
   "outputs": [
    {
     "name": "stdout",
     "output_type": "stream",
     "text": [
      "Finished Training\n"
     ]
    }
   ],
   "source": [
    "train_losses, valid_losses = train_nn(net, optimizer, criterion,  tfdif_train_dataloader, tfdif_valid_dataloader, n_epochs = n_epochs)"
   ]
  },
  {
   "cell_type": "markdown",
   "metadata": {},
   "source": [
    "### 13.5 Plot the learning curve\n"
   ]
  },
  {
   "cell_type": "code",
   "execution_count": 49,
   "metadata": {},
   "outputs": [
    {
     "data": {
      "image/png": "[encoded data removed]",
      "text/plain": [
       "<Figure size 640x480 with 1 Axes>"
      ]
     },
     "metadata": {},
     "output_type": "display_data"
    }
   ],
   "source": [
    "plot_learning_curve(train_losses, valid_losses)"
   ]
  },
  {
   "cell_type": "markdown",
   "metadata": {},
   "source": [
    "### 13.6 Evaluate the model\n"
   ]
  },
  {
   "cell_type": "code",
   "execution_count": 50,
   "metadata": {},
   "outputs": [
    {
     "name": "stdout",
     "output_type": "stream",
     "text": [
      "Accuracy: 84 %\n",
      "Precision: 0.15331091365731433\n",
      "Recall: 0.1562370974742709\n",
      "F1 Score: 0.15429261814215112\n"
     ]
    }
   ],
   "source": [
    "predictions, accuracy = evaluate_classnet(net, tfdif_test_dataloader)"
   ]
  },
  {
   "cell_type": "markdown",
   "metadata": {},
   "source": [
    "## Task 14: Get Word Embeddings\n",
    "\n",
    "BoW models, such as TF-IDF, often fail to capture the semantic nuances of words crucial for many NLP tasks. In contrast, word embeddings address these issues by representing words as real-valued vectors learned through unsupervised methods from massive text corpora. Popular examples of word embeddings include GloVe (Global Vectors for Word Representation) and Word2Vec.\n",
    "\n",
    "In this task, you’ll create feature vectors using GloVe embeddings.\n",
    "\n",
    "To complete the task, do the following:\n",
    "\n",
    "1. The GloVe6B embeddings have been downloaded and are in the /glove6B directory.\n",
    "\n",
    "Load the 200d embeddings from /glove6B/glove.6B.200d.txt into a dictionary named glove_embed_dict with words as keys and their corresponding embedding\n",
    "vectors as values.\n",
    "\n",
    "Create two dictionaries: index_to_word, which maps integers to words, and word_to_index which reverses this mapping, associating words with their \n",
    "respective integer indexes.\n",
    "\n",
    "2. There are two tokens that are important in NLP; pad and unk. The pad vectors are added to shorter sequences to ensure they are in the dimension\n",
    "expected by the model, in a process called padding. The unk token is used to represent words not in the chosen vocabulary.\n",
    "\n",
    "Add pad and unk tokens into glove_embed_dict. Assign unk a vector of random floats, and pad a vector of zeros with a dimension of 200.\n",
    "\n",
    "Then, add these tokens to both index_to_word and word_to_index dictionaries, ensuring they map correctly between the token and its newly assigned index.\n",
    "\n",
    "3. Iterate through your training samples, split them into words, and calculate the average and maximum number of words per sample.\n",
    "\n",
    "4. Define a custom Dataset, GloveDataset, which will preprocess the data.\n",
    "\n",
    "In the __init__() method, initialize variables for features and labels. The method accepts the following parameters: text (sequence of lists of space-separated tokens), labels, word_to_index, index_to_word, glove_embed_dict, and max_seq_len. Create self.index_seq to store word indexes for each sequence, assigning the `unk` index for words not found in word_to_index. Limit storage to max_seq_len. Use a default max_seq_len of 20.\n",
    "\n",
    "Implement the __len__() method to return the total number of samples in the dataset.\n",
    "\n",
    "Implement the __getitem__() method to fetch, transform, and return the input and target for a given index idx.\n"
   ]
  },
  {
   "cell_type": "markdown",
   "metadata": {},
   "source": [
    "### 14.1 Load embeddings into a dictionary"
   ]
  },
  {
   "cell_type": "code",
   "execution_count": 51,
   "metadata": {},
   "outputs": [],
   "source": [
    "glove_embed_dict = {}\n",
    "word_to_index = {}\n",
    "index_to_word = {}\n",
    "with open('/glove6B/glove.6B.200d.txt','r') as f:\n",
    "    for index, line in enumerate(f):\n",
    "        values = line.split()\n",
    "        word = values[0]\n",
    "        vector = np.asarray(values[1:],'float32')\n",
    "        glove_embed_dict[word] = vector\n",
    "        index_to_word[index] = word\n",
    "        word_to_index[word] = index"
   ]
  },
  {
   "cell_type": "markdown",
   "metadata": {},
   "source": [
    "### 14.2 Add 'pad' and 'unk' tokens to the dictionaries\n"
   ]
  },
  {
   "cell_type": "code",
   "execution_count": 52,
   "metadata": {},
   "outputs": [],
   "source": [
    "glove_embed_dict['<unk>'] = np.random.rand(200)\n",
    "glove_embed_dict['<pad>'] = np.zeros(200)\n",
    "index = len(glove_embed_dict)+1\n",
    "word_to_index['<unk>'] = index\n",
    "index_to_word[index ] = '<unk>'\n",
    "index +=1\n",
    "word_to_index['<pad>'] = index\n",
    "index_to_word[index] = '<pad>'"
   ]
  },
  {
   "cell_type": "markdown",
   "metadata": {},
   "source": [
    "### 14.3 Calculate average sequence length\n"
   ]
  },
  {
   "cell_type": "code",
   "execution_count": 53,
   "metadata": {},
   "outputs": [
    {
     "name": "stdout",
     "output_type": "stream",
     "text": [
      "Average seq len: 5.661408657373441\n",
      "Max seq len: 21\n"
     ]
    }
   ],
   "source": [
    "total_seq_len = 0\n",
    "max_seq_len = 0\n",
    "for line in  train_df['text']: \n",
    "    seq_len = len(line.split(\" \"))\n",
    "    total_seq_len += seq_len\n",
    "    max_seq_len = max(max_seq_len, seq_len)\n",
    "avg_seq_len = total_seq_len/len(train_df['text'])\n",
    "print(f\"Average seq len: {avg_seq_len}\")\n",
    "print(f\"Max seq len: {max_seq_len}\")"
   ]
  },
  {
   "cell_type": "markdown",
   "metadata": {},
   "source": [
    "### 14.4 Implement GloveDataset\n"
   ]
  },
  {
   "cell_type": "code",
   "execution_count": 54,
   "metadata": {},
   "outputs": [],
   "source": [
    "class GloveDataset(Dataset):\n",
    "    def __init__(self, text, labels, word_to_index, index_to_word, glove_embed_dict, max_seq_len=20):\n",
    "        self.labels = torch.tensor(labels.values)\n",
    "        self.glove_embed_dict = glove_embed_dict\n",
    "        self.word_to_index = word_to_index\n",
    "        self.index_to_word = index_to_word\n",
    "        self.max_seq_len = max_seq_len\n",
    "        self.index_seq = []\n",
    "        for line in text:\n",
    "            indices = [self.word_to_index.get(word, self.word_to_index.get('<unk>')) for word in line.split()]\n",
    "            pad_length = self.max_seq_len - len(indices)\n",
    "            indices = indices[:self.max_seq_len] + [self.word_to_index.get('<pad>')] * pad_length\n",
    "            self.index_seq.append(indices)\n",
    "\n",
    "    def __len__(self):\n",
    "        return len(self.labels)\n",
    "\n",
    "    def __getitem__(self, idx):\n",
    "        indices = self.index_seq[idx]\n",
    "        label = self.labels[idx]\n",
    "        words = [self.index_to_word[i] for i in indices]\n",
    "        embeddings = torch.tensor([self.glove_embed_dict[word] for word in words], dtype=torch.float)\n",
    "        return embeddings, label"
   ]
  },
  {
   "cell_type": "markdown",
   "metadata": {},
   "source": [
    "## Task 15: Set up Training\n",
    "\n",
    "In this task, your primary focus will be on training a neural network using long short-term memory (LSTM) networks, a specialized type of recurrent \n",
    "neural networks (RNNs) known for their efficacy in NLP.\n",
    "\n",
    "To complete the task, do the following:\n",
    "\n",
    "1. Create a neural network class called GloveClassifier :\n",
    "\n",
    "Create a constructor method __init__() which will accept input dimension (GloVe embeddings dimension), hidden dimension \n",
    "(size of the hidden state vector), output dimension (number of classes), and number of layers (number of LSTM layers).\n",
    "\n",
    "Initialize an LSTM layer and set the batch_first parameter to True.\n",
    "\n",
    "Initialize a Linear layer that will take an input whose dimension is the same as the hidden dimension from the LSTM layer.\n",
    "\n",
    "Implement the forward method. Pass the data through the LSTM and a Linear layer and return the logits.\n",
    "\n",
    "2. Set the following model and data configurations: input_dim = 200, hidden_dim = 128, output_dim = 6, num_layers = 2, batch_size = 16, \n",
    "learning_rate = 0.002, and n_epochs = 10.\n",
    "\n",
    "3. Instantiate GloveDataset for train-test-validation splits. Set up the corresponding DataLoaders for these datasets.\n",
    "\n",
    "4. Instantiate a GloveClassifier class with the specified parameters.\n",
    "\n",
    "5. Instantiate CrossEntropyLoss and Adam optimizer.\n",
    "\n",
    "6. Move the model to the configured device.\n"
   ]
  },
  {
   "cell_type": "markdown",
   "metadata": {},
   "source": [
    "### 15.1 Define a neural network"
   ]
  },
  {
   "cell_type": "code",
   "execution_count": 55,
   "metadata": {},
   "outputs": [],
   "source": [
    "class GloveClassifier(nn.Module):\n",
    "    def __init__(self, input_dim, hidden_dim, output_dim, num_layers):\n",
    "        super(GloveClassifier, self).__init__()\n",
    "        self.lstm = nn.LSTM(input_dim, hidden_dim, num_layers, batch_first=True) # LSTM layer\n",
    "        self.linear_layer = nn.Linear(hidden_dim, output_dim)                   # Fully connected layer\n",
    "    def forward(self, x):\n",
    "        _, (hn, _) = self.lstm(x)\n",
    "        out = self.linear_layer(hn[-1])\n",
    "        return out"
   ]
  },
  {
   "cell_type": "markdown",
   "metadata": {},
   "source": [
    "### 15.2 Set model and data configurations\n"
   ]
  },
  {
   "cell_type": "code",
   "execution_count": 56,
   "metadata": {},
   "outputs": [],
   "source": [
    "input_dim = 200\n",
    "hidden_dim = 128\n",
    "output_dim = 6\n",
    "num_layers = 2 \n",
    "batch_size = 16\n",
    "learning_rate = 0.002\n",
    "n_epochs = 10"
   ]
  },
  {
   "cell_type": "markdown",
   "metadata": {},
   "source": [
    "### 15.3 Instantiate datasets and dataloaders\n"
   ]
  },
  {
   "cell_type": "code",
   "execution_count": 57,
   "metadata": {},
   "outputs": [],
   "source": [
    "train_dataset = GloveDataset(X_train, y_train, word_to_index, index_to_word, glove_embed_dict)\n",
    "valid_dataset = GloveDataset(X_valid, y_valid, word_to_index, index_to_word, glove_embed_dict)\n",
    "test_dataset = GloveDataset(X_test, y_test, word_to_index, index_to_word, glove_embed_dict)\n",
    "\n",
    "train_dataloader = DataLoader(train_dataset, batch_size=batch_size, shuffle=True)\n",
    "test_dataloader = DataLoader(test_dataset, batch_size=batch_size, shuffle=True)\n",
    "valid_dataloader = DataLoader(valid_dataset, batch_size=batch_size, shuffle=True)"
   ]
  },
  {
   "cell_type": "markdown",
   "metadata": {},
   "source": [
    "### 15.4 Instantiate a neural network\n"
   ]
  },
  {
   "cell_type": "code",
   "execution_count": 58,
   "metadata": {},
   "outputs": [],
   "source": [
    "model = GloveClassifier(input_dim, hidden_dim, output_dim, num_layers)"
   ]
  },
  {
   "cell_type": "markdown",
   "metadata": {},
   "source": [
    "### 15.5 Instantiate loss function and optimizer\n"
   ]
  },
  {
   "cell_type": "code",
   "execution_count": 59,
   "metadata": {},
   "outputs": [],
   "source": [
    "criterion = nn.CrossEntropyLoss()\n",
    "optimizer = optim.Adam(model.parameters(), lr=learning_rate)"
   ]
  },
  {
   "cell_type": "markdown",
   "metadata": {},
   "source": [
    "### 15.6 Move model to device\n"
   ]
  },
  {
   "cell_type": "code",
   "execution_count": 60,
   "metadata": {},
   "outputs": [
    {
     "data": {
      "text/plain": [
       "GloveClassifier(\n",
       "  (lstm): LSTM(200, 128, num_layers=2, batch_first=True)\n",
       "  (linear_layer): Linear(in_features=128, out_features=6, bias=True)\n",
       ")"
      ]
     },
     "execution_count": 60,
     "metadata": {},
     "output_type": "execute_result"
    }
   ],
   "source": [
    "model.to(device)"
   ]
  },
  {
   "cell_type": "markdown",
   "metadata": {},
   "source": [
    "## Task 16: Train and Evaluate the Neural Network\n",
    "\n",
    "In this task, you’ll train and evaluate the model on feature vectors from GloVe embeddings.\n",
    "\n",
    "To complete the task, do the following:\n",
    "\n",
    "1. Call the train_nn() function to train the model.\n",
    "\n",
    "2. Call the plot_learning_curve() function to visualize the learning curve.\n",
    "\n",
    "3. Call the evaluate_classnet() method to evaluate the model on the test set.\n"
   ]
  },
  {
   "cell_type": "markdown",
   "metadata": {},
   "source": [
    "### 16.1 Train the model"
   ]
  },
  {
   "cell_type": "code",
   "execution_count": 61,
   "metadata": {},
   "outputs": [
    {
     "name": "stderr",
     "output_type": "stream",
     "text": [
      "/tmp/ipykernel_164/2784965799.py:22: UserWarning: Creating a tensor from a list of numpy.ndarrays is extremely slow. Please consider converting the list to a single numpy.ndarray with numpy.array() before converting to a tensor. (Triggered internally at ../torch/csrc/utils/tensor_new.cpp:275.)\n",
      "  embeddings = torch.tensor([self.glove_embed_dict[word] for word in words], dtype=torch.float)\n"
     ]
    },
    {
     "name": "stdout",
     "output_type": "stream",
     "text": [
      "Finished Training\n"
     ]
    }
   ],
   "source": [
    "train_losses, valid_losses = train_nn(model, optimizer, criterion,  train_dataloader, valid_dataloader, n_epochs = n_epochs)"
   ]
  },
  {
   "cell_type": "markdown",
   "metadata": {},
   "source": [
    "### 16.2 Plot the learning curve\n"
   ]
  },
  {
   "cell_type": "code",
   "execution_count": 62,
   "metadata": {},
   "outputs": [
    {
     "data": {
      "image/png": "[encoded data removed]",
      "text/plain": [
       "<Figure size 640x480 with 1 Axes>"
      ]
     },
     "metadata": {},
     "output_type": "display_data"
    }
   ],
   "source": [
    "plot_learning_curve(train_losses, valid_losses)"
   ]
  },
  {
   "cell_type": "markdown",
   "metadata": {},
   "source": [
    "### 16.3 Evaluate the model\n"
   ]
  },
  {
   "cell_type": "code",
   "execution_count": 64,
   "metadata": {},
   "outputs": [
    {
     "name": "stdout",
     "output_type": "stream",
     "text": [
      "Accuracy: 27 %\n",
      "Precision: 0.04575818303273213\n",
      "Recall: 0.16545893719806762\n",
      "F1 Score: 0.0716902145473574\n"
     ]
    },
    {
     "name": "stderr",
     "output_type": "stream",
     "text": [
      "/usr/local/lib/python3.8/dist-packages/sklearn/metrics/_classification.py:1471: UndefinedMetricWarning: Precision is ill-defined and being set to 0.0 in labels with no predicted samples. Use `zero_division` parameter to control this behavior.\n",
      "  _warn_prf(average, modifier, msg_start, len(result))\n"
     ]
    }
   ],
   "source": [
    "predictions, accuracy = evaluate_classnet(model, test_dataloader)"
   ]
  },
  {
   "cell_type": "markdown",
   "metadata": {},
   "source": [
    "## Task 17: Get Embeddings from Pretrained Language Models\n",
    "\n",
    "Static word embedding techniques like GloVe and Word2vec capture word meanings but struggle with context. Pre-trained language models (PLMs) like BERT,\n",
    "GPT-2, and XLNet overcome this by initially training on large language datasets for general understanding and then fine-tuning on smaller, \n",
    "task-specific datasets. For classification tasks, a simple feedforward layer, or classification head, is added to PLMs to make decisions based on this \n",
    "contextual information.\n",
    "\n",
    "In this project, you’ll use MobileBERT, a lightweight version of BERT, via the transformers library.\n",
    "\n",
    "To complete this task, perform the following steps:\n",
    "\n",
    "1. Set the following variables: max_len = 64 , batch_size = 32, n_epochs = 3, and learning_rate = 1e-04.\n",
    "\n",
    "2. Instantiate a MobileBertTokenizer for the google/mobilebert-uncased version of MobileBERT and assign it to a variable named tokenizer. \n",
    "The MobileBertTokenizer is a module from transformers library and is in the imports. Learn more about tokenization in this Educative Answer.\n",
    "\n",
    "3. Implement a custom Dataset, MobileBertDataset, which will preprocess the data.\n",
    "\n",
    "In the __init__() method, initialize variables for features and labels. The method accepts the following parameters: text (sequence of sentences), \n",
    "labels, tokenizer, and max_len.\n",
    "\n",
    "Implement the __len__() method to return the total number of samples in the dataset.\n",
    "\n",
    "Implement the __getitem__() method to fetch, transform, and return a label and embeddings for a given index idx. Use the tokenizer to encode the text\n",
    "and return a dictionary containing ids, mask, and targets as keys.\n",
    "\n",
    "4. Implement a neural network classifier class named MobileBertClassNet.\n",
    "\n",
    "Within the constructor method __init__(), initialize the model’s layers.\n",
    "\n",
    "Download the google/mobilebert-uncased version of MobileBERT model via the transformers library and assign it as the first layer.\n",
    "\n",
    "For the classification head, initialize a linear layer that accepts an input of size 512 and returns an output of size 6.\n",
    "\n",
    "Initialize a dropout layer.\n",
    "\n",
    "Implement the forward method. It should have input_ids and attention_masks as parameters. Pass the data through MobileBERT and feedforward layers.\n",
    "\n"
   ]
  },
  {
   "cell_type": "markdown",
   "metadata": {},
   "source": [
    "### 17.1 Define model and data configuration"
   ]
  },
  {
   "cell_type": "code",
   "execution_count": 65,
   "metadata": {},
   "outputs": [],
   "source": [
    "max_len = 64\n",
    "batch_size = 32\n",
    "n_epochs = 3\n",
    "learning_rate = 1e-04"
   ]
  },
  {
   "cell_type": "markdown",
   "metadata": {},
   "source": [
    "### 17.2 Instantiate tokenizer\n"
   ]
  },
  {
   "cell_type": "code",
   "execution_count": 66,
   "metadata": {},
   "outputs": [
    {
     "data": {
      "application/vnd.jupyter.widget-view+json": {
       "model_id": "2817440f39f249408a729531fe380d43",
       "version_major": 2,
       "version_minor": 0
      },
      "text/plain": [
       "vocab.txt:   0%|          | 0.00/232k [00:00<?, ?B/s]"
      ]
     },
     "metadata": {},
     "output_type": "display_data"
    },
    {
     "data": {
      "application/vnd.jupyter.widget-view+json": {
       "model_id": "06f2feb9166240948d40fcfd4fbc184a",
       "version_major": 2,
       "version_minor": 0
      },
      "text/plain": [
       "tokenizer.json:   0%|          | 0.00/466k [00:00<?, ?B/s]"
      ]
     },
     "metadata": {},
     "output_type": "display_data"
    },
    {
     "data": {
      "application/vnd.jupyter.widget-view+json": {
       "model_id": "402325d76f0b4336b288e603c759ed6b",
       "version_major": 2,
       "version_minor": 0
      },
      "text/plain": [
       "config.json:   0%|          | 0.00/847 [00:00<?, ?B/s]"
      ]
     },
     "metadata": {},
     "output_type": "display_data"
    }
   ],
   "source": [
    "tokenizer = MobileBertTokenizer.from_pretrained('google/mobilebert-uncased')"
   ]
  },
  {
   "cell_type": "markdown",
   "metadata": {},
   "source": [
    "### 17.3 Create custom Dataset\n"
   ]
  },
  {
   "cell_type": "code",
   "execution_count": 67,
   "metadata": {},
   "outputs": [],
   "source": [
    "class MobileBertDataset(Dataset):\n",
    "    def __init__(self, texts, labels, tokenizer, max_len):\n",
    "        self.texts = texts\n",
    "        self.labels = labels\n",
    "        self.tokenizer = tokenizer\n",
    "        self.max_len = max_len\n",
    "\n",
    "    def __len__(self):\n",
    "        return len(self.labels)\n",
    "\n",
    "    def __getitem__(self, index):\n",
    "        text = self.texts.iloc[index]\n",
    "        text = \" \".join(text.split())\n",
    "        inputs = self.tokenizer.encode_plus(\n",
    "            text,\n",
    "            None,\n",
    "            add_special_tokens=True,\n",
    "            max_length=max_len,\n",
    "            padding='max_length',\n",
    "            return_token_type_ids=True,\n",
    "            truncation=True\n",
    "        )\n",
    "        ids = inputs['input_ids']\n",
    "        mask = inputs['attention_mask']\n",
    "\n",
    "        return {\n",
    "            'ids': torch.tensor(ids, dtype=torch.long),\n",
    "            'mask': torch.tensor(mask, dtype=torch.long),\n",
    "            'targets': torch.tensor(self.labels.iloc[index], dtype=torch.long)\n",
    "        }"
   ]
  },
  {
   "cell_type": "markdown",
   "metadata": {},
   "source": [
    "### 17.4 Implement neural network classifier\n"
   ]
  },
  {
   "cell_type": "code",
   "execution_count": 68,
   "metadata": {},
   "outputs": [],
   "source": [
    "class MobileBertClassNet(torch.nn.Module):\n",
    "    def __init__(self, n_classes=6):\n",
    "        super(MobileBertClassNet, self).__init__()\n",
    "        self.l1 = MobileBertModel.from_pretrained(\"google/mobilebert-uncased\")\n",
    "        self.dropout = nn.Dropout(0.3)\n",
    "        self.fc1 = nn.Linear(512, n_classes)\n",
    "\n",
    "    def forward(self, input_ids, attention_mask):\n",
    "        output_1 = self.l1(input_ids=input_ids, attention_mask=attention_mask)\n",
    "        hidden_state = output_1[0]\n",
    "        pooled_output = hidden_state[:, 0]\n",
    "        x = self.fc1(self.dropout(pooled_output))\n",
    "        return x"
   ]
  },
  {
   "cell_type": "markdown",
   "metadata": {},
   "source": [
    "## Task 18: Set up Training\n",
    "\n",
    "In this task, you’ll create the training and evaluating functions, datasets, DataLoaders, and instantiate the classification model.\n",
    "\n",
    "Perform the following steps to complete this task:\n",
    "\n",
    "1. Implement an evaluation function called evaluate_mobilebert() that receives a model and DataLoader as input, and performs a forward pass. It also\n",
    "returns the predictions, accuracy, and loss.\n",
    "\n",
    "2. Implement the train_mobilebert() method that will receive the model, criterion, optimizer, train_dataloader, valid_dataloader, and n_epochs as \n",
    "parameters. It’ll perform the forward and backward pass on the model and, then validate it in every epoch. The function will return the training and \n",
    "validation losses.\n",
    "\n",
    "3. Create a train-test-validation split using the raw text. This is because the pre-trained models don’t require extensive preprocessing. The training\n",
    "size should be 1600 and validation size should be 160. Do not change the testing size.\n",
    "\n",
    "4. Initialize datasets and DataLoaders for the train-test-validation splits.\n",
    "\n",
    "5. Create an instance of MobileBertClassNet and move it to the device.\n",
    "\n",
    "6. Instantiate a CrossEntropyLoss and an Adam optimizer.\n"
   ]
  },
  {
   "cell_type": "markdown",
   "metadata": {},
   "source": [
    "### 18.1 Create an evaluation function"
   ]
  },
  {
   "cell_type": "code",
   "execution_count": 69,
   "metadata": {},
   "outputs": [],
   "source": [
    "def evaluate_mobilebert(model, dataloader):\n",
    "    with torch.no_grad():\n",
    "        model.eval()\n",
    "        total_loss = 0\n",
    "        total_size = 0\n",
    "        correct_pred = 0\n",
    "        predictions = []\n",
    "        for data in dataloader:\n",
    "            ids = data['ids'].to(device, dtype = torch.long)\n",
    "            mask = data['mask'].to(device, dtype = torch.long)\n",
    "            labels = data['targets'].to(device, dtype = torch.long)\n",
    "            outputs = model(ids, mask)\n",
    "            total_loss += criterion(outputs, labels).item()\n",
    "            _, predicted = torch.max(outputs.data, 1)\n",
    "            total_size += labels.size(0)\n",
    "            correct_pred += (predicted == labels).sum().item()\n",
    "            predictions.extend(predicted.tolist())\n",
    "        accuracy = 100 * correct_pred // total_size\n",
    "        loss = total_loss/len(dataloader)\n",
    "        print(f'Accuracy : {accuracy} %\\tLoss: {loss:.4f}')\n",
    "        return  {'predictions' :predictions, 'accuracy': accuracy, 'loss': loss}"
   ]
  },
  {
   "cell_type": "markdown",
   "metadata": {},
   "source": [
    "### 18.2 Creat a training function\n"
   ]
  },
  {
   "cell_type": "code",
   "execution_count": 70,
   "metadata": {},
   "outputs": [],
   "source": [
    "def train_mobilebert(model, criterion, optimizer, train_dataloader, valid_dataloader, n_epochs):\n",
    "    train_losses = []\n",
    "    valid_losses = []\n",
    "    len_train_dataloader = len(train_dataloader)\n",
    "    len_valid_dataloader = len(valid_dataloader)\n",
    "    for epoch in range(n_epochs):  #loop over the dataset\n",
    "        total_train_loss = 0.0\n",
    "        model.train()\n",
    "        for i, data in enumerate(train_dataloader, 0):\n",
    "            ids = data['ids'].to(device, dtype = torch.long)\n",
    "            mask = data['mask'].to(device, dtype = torch.long)\n",
    "            labels = data['targets'].to(device, dtype = torch.long)\n",
    "            optimizer.zero_grad() # zero the parameter gradients\n",
    "            outputs = model(ids, mask) # forward + backward + optimize\n",
    "            loss = criterion(outputs, labels)\n",
    "            loss.backward()\n",
    "            optimizer.step()\n",
    "            total_train_loss += loss.item()\n",
    "        valid_loss = evaluate_mobilebert(model, valid_dataloader)['loss']\n",
    "        train_losses.append(total_train_loss/len_train_dataloader)\n",
    "        valid_losses.append(valid_loss)\n",
    "    return train_losses, valid_losses"
   ]
  },
  {
   "cell_type": "markdown",
   "metadata": {},
   "source": [
    "### 18.3 Create data splits\n"
   ]
  },
  {
   "cell_type": "code",
   "execution_count": 71,
   "metadata": {},
   "outputs": [],
   "source": [
    "X = train_orig['text']\n",
    "y = train_df['main_cat']\n",
    "X_test = test_orig['text']\n",
    "y_test = test_df['main_cat']\n",
    "X_train, X_valid, y_train, y_valid = train_test_split(X, y, train_size=1600, test_size=160, random_state=42, stratify=y)"
   ]
  },
  {
   "cell_type": "markdown",
   "metadata": {},
   "source": [
    "### 18.4 Initialize datasets and dataloaders\n"
   ]
  },
  {
   "cell_type": "code",
   "execution_count": 72,
   "metadata": {},
   "outputs": [],
   "source": [
    "train_dataset = MobileBertDataset(X_train, y_train, tokenizer, max_len)\n",
    "valid_dataset = MobileBertDataset(X_valid, y_valid, tokenizer, max_len)\n",
    "test_dataset = MobileBertDataset(X_test, y_test, tokenizer, max_len)\n",
    "\n",
    "train_dataloader = DataLoader(train_dataset, batch_size=batch_size)\n",
    "valid_dataloader = DataLoader(valid_dataset, batch_size=batch_size)\n",
    "test_dataloader = DataLoader(test_dataset, batch_size=batch_size)"
   ]
  },
  {
   "cell_type": "markdown",
   "metadata": {},
   "source": [
    "### 18.5 Instantiate the model\n"
   ]
  },
  {
   "cell_type": "code",
   "execution_count": 73,
   "metadata": {},
   "outputs": [
    {
     "data": {
      "application/vnd.jupyter.widget-view+json": {
       "model_id": "6246e211315f4b76ac7261de39226269",
       "version_major": 2,
       "version_minor": 0
      },
      "text/plain": [
       "pytorch_model.bin:   0%|          | 0.00/147M [00:00<?, ?B/s]"
      ]
     },
     "metadata": {},
     "output_type": "display_data"
    },
    {
     "data": {
      "text/plain": [
       "MobileBertClassNet(\n",
       "  (l1): MobileBertModel(\n",
       "    (embeddings): MobileBertEmbeddings(\n",
       "      (word_embeddings): Embedding(30522, 128, padding_idx=0)\n",
       "      (position_embeddings): Embedding(512, 512)\n",
       "      (token_type_embeddings): Embedding(2, 512)\n",
       "      (embedding_transformation): Linear(in_features=384, out_features=512, bias=True)\n",
       "      (LayerNorm): NoNorm()\n",
       "      (dropout): Dropout(p=0.0, inplace=False)\n",
       "    )\n",
       "    (encoder): MobileBertEncoder(\n",
       "      (layer): ModuleList(\n",
       "        (0-23): 24 x MobileBertLayer(\n",
       "          (attention): MobileBertAttention(\n",
       "            (self): MobileBertSelfAttention(\n",
       "              (query): Linear(in_features=128, out_features=128, bias=True)\n",
       "              (key): Linear(in_features=128, out_features=128, bias=True)\n",
       "              (value): Linear(in_features=512, out_features=128, bias=True)\n",
       "              (dropout): Dropout(p=0.1, inplace=False)\n",
       "            )\n",
       "            (output): MobileBertSelfOutput(\n",
       "              (dense): Linear(in_features=128, out_features=128, bias=True)\n",
       "              (LayerNorm): NoNorm()\n",
       "            )\n",
       "          )\n",
       "          (intermediate): MobileBertIntermediate(\n",
       "            (dense): Linear(in_features=128, out_features=512, bias=True)\n",
       "            (intermediate_act_fn): ReLU()\n",
       "          )\n",
       "          (output): MobileBertOutput(\n",
       "            (dense): Linear(in_features=512, out_features=128, bias=True)\n",
       "            (LayerNorm): NoNorm()\n",
       "            (bottleneck): OutputBottleneck(\n",
       "              (dense): Linear(in_features=128, out_features=512, bias=True)\n",
       "              (LayerNorm): NoNorm()\n",
       "              (dropout): Dropout(p=0.0, inplace=False)\n",
       "            )\n",
       "          )\n",
       "          (bottleneck): Bottleneck(\n",
       "            (input): BottleneckLayer(\n",
       "              (dense): Linear(in_features=512, out_features=128, bias=True)\n",
       "              (LayerNorm): NoNorm()\n",
       "            )\n",
       "            (attention): BottleneckLayer(\n",
       "              (dense): Linear(in_features=512, out_features=128, bias=True)\n",
       "              (LayerNorm): NoNorm()\n",
       "            )\n",
       "          )\n",
       "          (ffn): ModuleList(\n",
       "            (0-2): 3 x FFNLayer(\n",
       "              (intermediate): MobileBertIntermediate(\n",
       "                (dense): Linear(in_features=128, out_features=512, bias=True)\n",
       "                (intermediate_act_fn): ReLU()\n",
       "              )\n",
       "              (output): FFNOutput(\n",
       "                (dense): Linear(in_features=512, out_features=128, bias=True)\n",
       "                (LayerNorm): NoNorm()\n",
       "              )\n",
       "            )\n",
       "          )\n",
       "        )\n",
       "      )\n",
       "    )\n",
       "    (pooler): MobileBertPooler()\n",
       "  )\n",
       "  (dropout): Dropout(p=0.3, inplace=False)\n",
       "  (fc1): Linear(in_features=512, out_features=6, bias=True)\n",
       ")"
      ]
     },
     "execution_count": 73,
     "metadata": {},
     "output_type": "execute_result"
    }
   ],
   "source": [
    "model = MobileBertClassNet()\n",
    "model.to(device)"
   ]
  },
  {
   "cell_type": "markdown",
   "metadata": {},
   "source": [
    "### 18.6 Initialize loss and optimizer\n"
   ]
  },
  {
   "cell_type": "code",
   "execution_count": 74,
   "metadata": {},
   "outputs": [],
   "source": [
    "criterion = nn.CrossEntropyLoss()\n",
    "optimizer = optim.Adam(params =  model.parameters(), lr=learning_rate)"
   ]
  },
  {
   "cell_type": "markdown",
   "metadata": {},
   "source": [
    "## Task 19: Train and Evaluate the Neural Network\n",
    "\n",
    "In this workspace, you’ll avoid fully fine-tuning the model, opting instead to freeze the layers of MobileBERT and train only the classification head.\n",
    "Full fine-tuning can be memory-intensive and ideally requires a GPU. Freezing parameters won’t update during training. While this method is quicker \n",
    "and less demanding on resources, it’s important to note that fully fine-tuning all layers typically delivers better results and is preferred in \n",
    "practice.\n",
    "\n",
    "In this task, you’ll train and evaluate the MobileBertClassNet model.\n",
    "\n",
    "Perform the following steps to complete this task:\n",
    "\n",
    "1. Freeze all the parameters of the layers of pre-trained model to speed up training.\n",
    "\n",
    "2. Print the names of the model layers that are trainable.\n",
    "\n",
    "3. Call the train_mobilebert() function to train the model.\n",
    "\n",
    "4. Call the plot_learning_curve() function to visualize the learning curve.\n",
    "\n",
    "5. Evaluate the neural network on the test set using accuracy as a metric.\n"
   ]
  },
  {
   "cell_type": "markdown",
   "metadata": {},
   "source": [
    "### 19.1 Freeze the pretrained layers"
   ]
  },
  {
   "cell_type": "code",
   "execution_count": 75,
   "metadata": {},
   "outputs": [],
   "source": [
    "for param in model.l1.parameters():\n",
    "    param.requires_grad = False"
   ]
  },
  {
   "cell_type": "markdown",
   "metadata": {},
   "source": [
    "### 19.2 Print the names of trainable parameters\n"
   ]
  },
  {
   "cell_type": "code",
   "execution_count": 76,
   "metadata": {},
   "outputs": [
    {
     "name": "stdout",
     "output_type": "stream",
     "text": [
      "fc1.weight\n",
      "fc1.bias\n"
     ]
    }
   ],
   "source": [
    "for name, param in model.named_parameters():\n",
    "    if param.requires_grad:\n",
    "        print(name)"
   ]
  },
  {
   "cell_type": "markdown",
   "metadata": {},
   "source": [
    "### 19.3 Train the model\n"
   ]
  },
  {
   "cell_type": "code",
   "execution_count": 77,
   "metadata": {},
   "outputs": [
    {
     "name": "stdout",
     "output_type": "stream",
     "text": [
      "Accuracy : 21 %\tLoss: 2131234.7750\n",
      "Accuracy : 22 %\tLoss: 775532.8625\n",
      "Accuracy : 21 %\tLoss: 1187166.8875\n"
     ]
    }
   ],
   "source": [
    "train_losses, valid_losses = train_mobilebert(model, criterion, optimizer, train_dataloader, valid_dataloader, n_epochs)"
   ]
  },
  {
   "cell_type": "markdown",
   "metadata": {},
   "source": [
    "### 19.4 Plot the learning curve\n"
   ]
  },
  {
   "cell_type": "code",
   "execution_count": 78,
   "metadata": {},
   "outputs": [
    {
     "data": {
      "image/png": "[encoded data removed]",
      "text/plain": [
       "<Figure size 640x480 with 1 Axes>"
      ]
     },
     "metadata": {},
     "output_type": "display_data"
    }
   ],
   "source": [
    "plot_learning_curve(train_losses, valid_losses)"
   ]
  },
  {
   "cell_type": "markdown",
   "metadata": {},
   "source": [
    "### 19.5 Evaluate the model\n"
   ]
  },
  {
   "cell_type": "code",
   "execution_count": 79,
   "metadata": {},
   "outputs": [
    {
     "name": "stdout",
     "output_type": "stream",
     "text": [
      "Accuracy : 27 %\tLoss: 1250170.7109\n"
     ]
    }
   ],
   "source": [
    "results = evaluate_mobilebert(model, test_dataloader)"
   ]
  },
  {
   "cell_type": "markdown",
   "metadata": {},
   "source": [
    "## Task 20: Handle Imbalanced Data\n",
    "\n",
    "Data imbalance in classification, where certain classes are underrepresented, can impair model performance. The dataset has this issue. To counteract\n",
    "it, you can follow the methods below:\n",
    "\n",
    "Generate synthetic data: Use techniques like SMOTE or advanced generative AI for new minority class samples.\n",
    "\n",
    "Oversample the minority class: Increase minority class representation by replicating its samples.\n",
    "\n",
    "Undersample the majority class: Reduce majority class samples to balance distribution.\n",
    "\n",
    "Adjust loss function weights: Increase penalties for misclassifying minority classes to focus model learning.\n",
    "\n",
    "Apply transfer learning: Start with models pre-trained on diverse datasets for better initial learning.\n",
    "\n",
    "In this task, you’ll set weights to the loss function to enhance the model’s sensitivity to the minority class. This approach aims to mitigate the \n",
    "effects of data imbalance and improve overall performance.\n",
    "\n",
    "Do the following steps to complete this task:\n",
    "\n",
    "1. Determine the class distribution percentages for both the training and testing splits.\n",
    "\n",
    "2. Implement a get_class_weight() function. This function will take encoded class values (y) and return two things: a dictionary mapping each class to \n",
    "its calculated weight and a list of these weights sorted according to class (e.g., index 0 will contain the weight for class 0).\n",
    "\n",
    "3. Call get_class_weight() to return a list of class weights, transform the list into a PyTorch tensor, and move it to the configured device.\n",
    "\n",
    "4. Then, initialize a CrossEntropyLoss object, passing in the tensor list of class weights as an argument and assigning it to a variable named \n",
    "criterion.\n",
    "\n",
    "                                                                 \n"
   ]
  },
  {
   "cell_type": "markdown",
   "metadata": {},
   "source": [
    "### 20.1 Calculate class distributions"
   ]
  },
  {
   "cell_type": "code",
   "execution_count": 80,
   "metadata": {},
   "outputs": [
    {
     "name": "stdout",
     "output_type": "stream",
     "text": [
      "main_cat\n",
      "2    0.229375\n",
      "3    0.224375\n",
      "1    0.213125\n",
      "5    0.164375\n",
      "4    0.153125\n",
      "0    0.015625\n",
      "Name: count, dtype: float64\n",
      "main_cat\n",
      "1    0.276\n",
      "5    0.226\n",
      "2    0.188\n",
      "4    0.162\n",
      "3    0.130\n",
      "0    0.018\n",
      "Name: count, dtype: float64\n"
     ]
    }
   ],
   "source": [
    "print(y_train.value_counts()/len(y_train))\n",
    "print(y_test.value_counts()/len(y_test))"
   ]
  },
  {
   "cell_type": "markdown",
   "metadata": {},
   "source": [
    "### 20.2 Implement get_class_weight()\n"
   ]
  },
  {
   "cell_type": "code",
   "execution_count": 81,
   "metadata": {},
   "outputs": [],
   "source": [
    "def get_class_weight(y_split):\n",
    "    class_list = np.unique(y_split)\n",
    "    class_weight_value = compute_class_weight(class_weight='balanced', classes=class_list, y=y_split)\n",
    "    weight_dict = {}\n",
    "    weight_list = []\n",
    "    for i in range(len(class_list)):\n",
    "        weight_dict[class_list[i]] = class_weight_value[i]\n",
    "        weight_list.append(class_weight_value[i])\n",
    "    return weight_dict, weight_list"
   ]
  },
  {
   "cell_type": "markdown",
   "metadata": {},
   "source": [
    "### 20.3 Create class weight tensors\n"
   ]
  },
  {
   "cell_type": "code",
   "execution_count": 82,
   "metadata": {},
   "outputs": [],
   "source": [
    "weight_dict, weight_list = get_class_weight(y_train)\n",
    "class_weights = torch.tensor(weight_list, dtype=torch.float32)\n",
    "class_weights = class_weights.to(device)"
   ]
  },
  {
   "cell_type": "markdown",
   "metadata": {},
   "source": [
    "### 20.4 Initialize CrossEntropyLoss with class weighting\n"
   ]
  },
  {
   "cell_type": "code",
   "execution_count": 83,
   "metadata": {},
   "outputs": [],
   "source": [
    "criterion = nn.CrossEntropyLoss(weight=class_weights)"
   ]
  },
  {
   "cell_type": "markdown",
   "metadata": {},
   "source": [
    "## Task 21: Train and Evaluate the Neural Network\n",
    "\n",
    "To explore how class weighting affects performance, you’ll retrain a new instance of ClassificationNet using TF-IDF vectors. Every hyperparameter will be the same as the previous iteration except for a loss function with class weighting.\n",
    "\n",
    "To complete this task, do the following:\n",
    "\n",
    "1. Instantiate the ClassificationNet class and assign the resulting object to a variable named net. Create an Adam optimizer with a learning rate \n",
    "of 0.002.\n",
    "\n",
    "2. Move the model to the configured computing device.\n",
    "\n",
    "3. Call the train_nn() method to train the model. For its parameters, reuse the datasets and DataLoaders you defined for TfidfDataset and n_epochs=4.\n",
    "\n",
    "4. Call the plot_learning_curve() function to visualize the learning curve.\n",
    "\n",
    "5. Call the evaluate_classnet() function to evaluate the model on the test set using precision, recall, F1, and accuracy as metrics.\n",
    "\n"
   ]
  },
  {
   "cell_type": "markdown",
   "metadata": {},
   "source": [
    "### 21.1 Instantiate classifier and optimizer"
   ]
  },
  {
   "cell_type": "code",
   "execution_count": 84,
   "metadata": {},
   "outputs": [],
   "source": [
    "net = ClassificationNet()\n",
    "optimizer = optim.Adam(net.parameters(), lr=0.002)"
   ]
  },
  {
   "cell_type": "markdown",
   "metadata": {},
   "source": [
    "### 21.2 Move model to device\n"
   ]
  },
  {
   "cell_type": "code",
   "execution_count": 85,
   "metadata": {},
   "outputs": [
    {
     "data": {
      "text/plain": [
       "ClassificationNet(\n",
       "  (fc1): Linear(in_features=8000, out_features=1024, bias=True)\n",
       "  (fc2): Linear(in_features=1024, out_features=256, bias=True)\n",
       "  (fc3): Linear(in_features=256, out_features=6, bias=True)\n",
       ")"
      ]
     },
     "execution_count": 85,
     "metadata": {},
     "output_type": "execute_result"
    }
   ],
   "source": [
    "net.to(device)"
   ]
  },
  {
   "cell_type": "markdown",
   "metadata": {},
   "source": [
    "### 21.3 Train model\n"
   ]
  },
  {
   "cell_type": "code",
   "execution_count": 86,
   "metadata": {},
   "outputs": [
    {
     "name": "stdout",
     "output_type": "stream",
     "text": [
      "Finished Training\n"
     ]
    }
   ],
   "source": [
    "train_losses, valid_losses = train_nn(net, optimizer, criterion, tfdif_train_dataloader, tfdif_valid_dataloader, n_epochs = n_epochs)"
   ]
  },
  {
   "cell_type": "markdown",
   "metadata": {},
   "source": [
    "### 21.4 Plot learning curve\n"
   ]
  },
  {
   "cell_type": "code",
   "execution_count": 87,
   "metadata": {},
   "outputs": [
    {
     "data": {
      "image/png": "[encoded data removed]",
      "text/plain": [
       "<Figure size 640x480 with 1 Axes>"
      ]
     },
     "metadata": {},
     "output_type": "display_data"
    }
   ],
   "source": [
    "plot_learning_curve(train_losses, valid_losses)"
   ]
  },
  {
   "cell_type": "markdown",
   "metadata": {},
   "source": [
    "### 21.5 Evaluate model\n"
   ]
  },
  {
   "cell_type": "code",
   "execution_count": 88,
   "metadata": {},
   "outputs": [
    {
     "name": "stdout",
     "output_type": "stream",
     "text": [
      "Accuracy: 64 %\n",
      "Precision: 0.13058579492403022\n",
      "Recall: 0.17463535285292517\n",
      "F1 Score: 0.11732250566978804\n"
     ]
    }
   ],
   "source": [
    "predictions, accuracy = evaluate_classnet(net, tfdif_test_dataloader)"
   ]
  },
  {
   "cell_type": "markdown",
   "metadata": {},
   "source": [
    "## Task 22: Save a Neural Network\n",
    "\n",
    "You’ll now review the metrics of the four neural networks you trained to identify the top performers. To enhance them, explore hyperparameter tuning, \n",
    "data augmentation, or architecture changes. You can save PyTorch models by serializing their state_dict. Also, save checkpoints during training for\n",
    "future training continuation or inference.\n",
    "\n",
    "In this task, you’ll save and load the classifier.\n",
    "\n",
    "To complete the task, do the following:\n",
    "\n",
    "1. Save the previous TF-IDF model to a file named tfidf_model.pt.\n",
    "\n",
    "2. Initialize a new ClassificationNet model named loaded_model. Load the saved model file to this variable.\n",
    "\n"
   ]
  },
  {
   "cell_type": "markdown",
   "metadata": {},
   "source": [
    "### 22.1 Save the model"
   ]
  },
  {
   "cell_type": "code",
   "execution_count": 89,
   "metadata": {},
   "outputs": [],
   "source": [
    "path = \"/usercode/tfidf_model.pt\"\n",
    "torch.save(net.state_dict(), path)"
   ]
  },
  {
   "cell_type": "markdown",
   "metadata": {},
   "source": [
    "### 21.2 Load the model\n"
   ]
  },
  {
   "cell_type": "code",
   "execution_count": 90,
   "metadata": {},
   "outputs": [
    {
     "data": {
      "text/plain": [
       "<All keys matched successfully>"
      ]
     },
     "execution_count": 90,
     "metadata": {},
     "output_type": "execute_result"
    }
   ],
   "source": [
    "loaded_model = ClassificationNet()\n",
    "loaded_model.load_state_dict(torch.load(path))"
   ]
  },
  {
   "cell_type": "code",
   "execution_count": null,
   "metadata": {},
   "outputs": [],
   "source": []
  }
 ],
 "metadata": {
  "colab": {
   "provenance": []
  },
  "kernelspec": {
   "display_name": "Python 3 (ipykernel)",
   "language": "python",
   "name": "python3"
  },
  "language_info": {
   "codemirror_mode": {
    "name": "ipython",
    "version": 3
   },
   "file_extension": ".py",
   "mimetype": "text/x-python",
   "name": "python",
   "nbconvert_exporter": "python",
   "pygments_lexer": "ipython3",
   "version": "3.11.7"
  },
  "vscode": {
   "interpreter": {
    "hash": "767d51c1340bd893661ea55ea3124f6de3c7a262a8b4abca0554b478b1e2ff90"
   }
  }
 },
 "nbformat": 4,
 "nbformat_minor": 4
}
